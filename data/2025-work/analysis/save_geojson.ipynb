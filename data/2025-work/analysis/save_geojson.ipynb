{
 "cells": [
  {
   "cell_type": "code",
   "execution_count": 2,
   "id": "e4bb1947-1496-4571-977a-a0a9de598035",
   "metadata": {},
   "outputs": [],
   "source": [
    "import pandas as pd\n",
    "import geopandas as gpd\n",
    "import numpy as np"
   ]
  },
  {
   "cell_type": "markdown",
   "id": "64a2c889-aa15-4415-a296-396d688f79c6",
   "metadata": {},
   "source": [
    "## Save data as GeoJSON with updated columns"
   ]
  },
  {
   "cell_type": "code",
   "execution_count": 3,
   "id": "a271b18f-e51d-4180-a2c6-ea17da837817",
   "metadata": {},
   "outputs": [
    {
     "data": {
      "text/plain": [
       "Index(['CRA_BN_ID', 'CRA_Organization_Name', 'CRA_Category', 'CRA_SubCategory',\n",
       "       '211_Organization_Name', '211_Location_Name', '211_Address', '211_City',\n",
       "       '211_Postal_Code', 'X_Coordinate', 'Y_Coordinate', 'Match_Method',\n",
       "       'Tenure', 'UW', 'Tenure_Public'],\n",
       "      dtype='object')"
      ]
     },
     "execution_count": 3,
     "metadata": {},
     "output_type": "execute_result"
    }
   ],
   "source": [
    "df_matches_all = pd.read_csv('../joined-data/simplified_matches_uw_tenure_final.csv')\n",
    "df_matches_all.columns"
   ]
  },
  {
   "cell_type": "code",
   "execution_count": 4,
   "id": "31d8c14d-9f43-4043-82a7-94398bb0008c",
   "metadata": {},
   "outputs": [],
   "source": [
    "df_matches_all['Tenure'] = df_matches_all['Tenure'].fillna('Unknown')\n",
    "df_matches_all = df_matches_all.drop(columns=['CRA_BN_ID', 'CRA_Organization_Name', '211_Location_Name', '211_Postal_Code', 'Match_Method', 'UW', 'Tenure_Public'])\n",
    "df_matches_all = df_matches_all.rename(columns={\n",
    "    '211_Organization_Name': 'N',\n",
    "    '211_Address': 'A',\n",
    "    'CRA_Category': 'C',\n",
    "    'CRA_SubCategory': 'S',\n",
    "    'Tenure': 'T',\n",
    "})"
   ]
  },
  {
   "cell_type": "code",
   "execution_count": 5,
   "id": "86098289-20a5-489e-92c7-7bbc0d8a96d4",
   "metadata": {},
   "outputs": [],
   "source": [
    "gdf_matches = gpd.GeoDataFrame(\n",
    "    df_matches_all, geometry=gpd.points_from_xy(df_matches_all.X_Coordinate, df_matches_all.Y_Coordinate), crs=\"EPSG:4326\"\n",
    ")\n",
    "gdf_matches.to_file('../joined-data/simplified_matches_4326.geo.json', driver='GeoJSON')"
   ]
  }
 ],
 "metadata": {
  "kernelspec": {
   "display_name": "Python 3 (ipykernel)",
   "language": "python",
   "name": "python3"
  },
  "language_info": {
   "codemirror_mode": {
    "name": "ipython",
    "version": 3
   },
   "file_extension": ".py",
   "mimetype": "text/x-python",
   "name": "python",
   "nbconvert_exporter": "python",
   "pygments_lexer": "ipython3",
   "version": "3.12.5"
  }
 },
 "nbformat": 4,
 "nbformat_minor": 5
}
