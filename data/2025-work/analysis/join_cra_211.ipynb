{
 "cells": [
  {
   "cell_type": "code",
   "execution_count": 1,
   "id": "3a4dc18f-b57b-4b9f-9c47-1855441946c8",
   "metadata": {},
   "outputs": [],
   "source": [
    "import pandas as pd\n",
    "import numpy as np\n",
    "from tqdm import tqdm\n",
    "import unicodedata\n",
    "import re\n",
    "import os"
   ]
  },
  {
   "cell_type": "code",
   "execution_count": 2,
   "id": "d73f9d2d-46ab-4396-9487-bf6b172ec611",
   "metadata": {},
   "outputs": [],
   "source": [
    "from sentence_transformers import SentenceTransformer, util\n",
    "from sklearn.neighbors import NearestNeighbors\n",
    "\n",
    "# Initialize BERT model\n",
    "model = SentenceTransformer('paraphrase-mpnet-base-v2')"
   ]
  },
  {
   "cell_type": "markdown",
   "id": "9a5c1f24-7277-4bfb-92f2-c15a641f6cb0",
   "metadata": {},
   "source": [
    "## Load data"
   ]
  },
  {
   "cell_type": "code",
   "execution_count": 3,
   "id": "2515d0ef-41ce-4c9a-a6ab-2cdda9ef1cdf",
   "metadata": {},
   "outputs": [],
   "source": [
    "df_cra = pd.read_csv(\"../cra-data/cra_2021_combined_filtered.csv\")\n",
    "df_cra = df_cra.rename(columns={\"Account Name\":\"Name\"})\n",
    "# df_cra[\"Name\"] = df_cra[\"Name\"].str.split(pat=\" - \", n=1).str[0]  # Removes any branch information - eg. \"Community Center - North Branch\" --> \"Community Center\"\n",
    "df_cra = df_cra.drop_duplicates(subset=[\"Name\"]).reset_index(drop=True)"
   ]
  },
  {
   "cell_type": "code",
   "execution_count": 4,
   "id": "4f7e865b-85d7-45b3-a1b5-e155ed214a47",
   "metadata": {},
   "outputs": [],
   "source": [
    "# Clean and rename 211 data\n",
    "df_211 = pd.read_csv(\"../211-data/2021_211_PeelYorkTO.csv\", encoding='latin-1')\n",
    "df_211 = df_211.drop(columns=[\"TaxonomyTerms\"])\n",
    "df_211 = df_211.rename(columns={\n",
    "    \"ParentAgency\":\"Name\",\n",
    "    \"Address1\":\"211_Address1\",\n",
    "    \"Address2\":\"211_Address2\",\n",
    "    \"City\":\"211_City\",\n",
    "    \"County\":\"211_County\",\n",
    "    \"Province\":\"211_Province\",\n",
    "    \"PostalCode\":\"211_PostalCode\",\n",
    "})\n",
    "df_211 = df_211.drop_duplicates(subset=[\"PublicName\", \"Latitude\", \"Longitude\"]).reset_index(drop=True)"
   ]
  },
  {
   "cell_type": "markdown",
   "id": "5540cde1-8fee-40cb-b7d2-e8c4fe3162e6",
   "metadata": {},
   "source": [
    "## Algorithmic matching"
   ]
  },
  {
   "cell_type": "code",
   "execution_count": 6,
   "id": "080e0b75-57af-404b-a2d9-1431d2c2027a",
   "metadata": {},
   "outputs": [
    {
     "name": "stdout",
     "output_type": "stream",
     "text": [
      "Data preparation complete\n",
      "CRA records: 6519\n",
      "211 records: 6405\n"
     ]
    }
   ],
   "source": [
    "# Clean text functions\n",
    "def clean_text(text):\n",
    "    if pd.isna(text):\n",
    "        return ''\n",
    "    text = unicodedata.normalize('NFKD', str(text)).encode('ascii', 'ignore').decode('ascii')\n",
    "    text = re.sub(r'[^a-zA-Z0-9]', '', text).lower()\n",
    "    return text\n",
    "\n",
    "def clean_text_with_spaces(text):\n",
    "    if pd.isna(text):\n",
    "        return ''\n",
    "    text = unicodedata.normalize('NFKD', str(text)).encode('ascii', 'ignore').decode('ascii')\n",
    "    # Keep spaces but remove other special characters\n",
    "    text = re.sub(r'[^a-zA-Z0-9 ]', '', text).lower()\n",
    "    # Collapse multiple spaces into one\n",
    "    text = re.sub(r' +', ' ', text).strip()\n",
    "    return text\n",
    "\n",
    "# Prepare CRA data\n",
    "df_cra_prep = df_cra.copy()\n",
    "df_cra_prep['clean_name'] = df_cra['Name'].apply(clean_text)\n",
    "df_cra_prep['clean_name_space'] = df_cra['Name'].apply(clean_text_with_spaces)\n",
    "df_cra_prep['PostalCode_clean'] = df_cra['Postal Code'].str.replace(r'\\s+', '', regex=True)\n",
    "\n",
    "# Prepare 211 data\n",
    "df_211_prep = df_211.copy()\n",
    "df_211_prep['clean_name'] = df_211['Name'].apply(clean_text)\n",
    "df_211_prep['clean_name_space'] = df_211['Name'].apply(clean_text_with_spaces)\n",
    "df_211_prep['PostalCode_clean'] = df_211['211_PostalCode'].str.replace(r'\\s+', '', regex=True)\n",
    "\n",
    "print(\"Data preparation complete\")\n",
    "print(f\"CRA records: {len(df_cra_prep)}\")\n",
    "print(f\"211 records: {len(df_211_prep)}\")"
   ]
  },
  {
   "cell_type": "code",
   "execution_count": 7,
   "id": "a82d2760-9dba-45ee-b6cd-eaf5171bab37",
   "metadata": {},
   "outputs": [
    {
     "name": "stdout",
     "output_type": "stream",
     "text": [
      "Step 1 Complete: 1094 matched rows\n",
      "Unique CRA orgs matched: 393\n",
      "Unique 211 orgs matched: 393\n",
      "Remaining CRA records: 6126\n",
      "Remaining 211 branches: 5311\n"
     ]
    }
   ],
   "source": [
    "# Exact name matching\n",
    "exact_matches = pd.merge(\n",
    "    df_cra_prep,\n",
    "    df_211_prep,\n",
    "    on='clean_name',\n",
    "    how='inner',\n",
    "    suffixes=('_cra', '_211')\n",
    ")\n",
    "\n",
    "if not exact_matches.empty:\n",
    "    matched_orgs = exact_matches['clean_name'].unique()\n",
    "    all_branches = df_211_prep[df_211_prep['clean_name'].isin(matched_orgs)]\n",
    "    \n",
    "    exact_match_results = pd.merge(\n",
    "        df_cra_prep[df_cra_prep['clean_name'].isin(matched_orgs)],\n",
    "        all_branches,\n",
    "        on='clean_name',\n",
    "        how='left',\n",
    "        suffixes=('_cra', '_211')\n",
    "    )\n",
    "    exact_match_results['Match_Method'] = 'Exact Name'\n",
    "else:\n",
    "    exact_match_results = pd.DataFrame()\n",
    "\n",
    "remaining_cra = df_cra_prep[~df_cra_prep['clean_name'].isin(exact_match_results['clean_name'].unique())]\n",
    "remaining_211 = df_211_prep[~df_211_prep['clean_name'].isin(exact_match_results['clean_name'].unique())]\n",
    "\n",
    "print(f\"Step 1 Complete: {len(exact_match_results)} matched rows\")\n",
    "print(f\"Unique CRA orgs matched: {exact_match_results['BN'].nunique()}\")\n",
    "print(f\"Unique 211 orgs matched: {exact_match_results['clean_name'].nunique()}\")\n",
    "print(f\"Remaining CRA records: {len(remaining_cra)}\")\n",
    "print(f\"Remaining 211 branches: {len(remaining_211)}\")"
   ]
  },
  {
   "cell_type": "code",
   "execution_count": 8,
   "id": "c2d23bd9-fc2d-4dde-afec-2ff9f1d81a35",
   "metadata": {},
   "outputs": [
    {
     "name": "stderr",
     "output_type": "stream",
     "text": [
      "100%|█████████████████████████████████████████| 852/852 [01:25<00:00,  9.94it/s]\n"
     ]
    },
    {
     "name": "stdout",
     "output_type": "stream",
     "text": [
      "\n",
      "Step 2 Complete: 504 matched rows\n",
      "Unique CRA orgs matched: 209\n",
      "Unique 211 orgs matched: 206\n",
      "Remaining CRA records: 5917\n",
      "Remaining 211 branches: 4840\n"
     ]
    }
   ],
   "source": [
    "# Postal code + fuzzy name matching using clean_name_space\n",
    "common_postal_codes = set(remaining_cra['PostalCode_clean']).intersection(set(remaining_211['PostalCode_clean']))\n",
    "postal_matched_results = []\n",
    "postal_bad_matches = []\n",
    "\n",
    "for postal_code in tqdm(common_postal_codes):\n",
    "    cra_subset = remaining_cra[remaining_cra['PostalCode_clean'] == postal_code]\n",
    "    two11_subset = remaining_211[remaining_211['PostalCode_clean'] == postal_code]\n",
    "    \n",
    "    if len(cra_subset) == 0 or len(two11_subset) == 0:\n",
    "        continue\n",
    "        \n",
    "    cra_embeddings = model.encode(cra_subset['clean_name_space'].tolist())\n",
    "    two11_embeddings = model.encode(two11_subset['clean_name_space'].tolist())\n",
    "    \n",
    "    nn = NearestNeighbors(n_neighbors=1, metric='cosine').fit(two11_embeddings)\n",
    "    distances, indices = nn.kneighbors(cra_embeddings, return_distance=True)\n",
    "    \n",
    "    for i, (distance, index) in enumerate(zip(distances, indices)):\n",
    "        similarity = 1 - distance[0]\n",
    "        if similarity >= 0.80:\n",
    "            matched_org_name = two11_subset.iloc[index[0]]['clean_name_space']\n",
    "            matched_branches = remaining_211[remaining_211['clean_name_space'] == matched_org_name]\n",
    "            \n",
    "            for _, branch_row in matched_branches.iterrows():\n",
    "                merged_row = cra_subset.iloc[i].to_dict()\n",
    "                merged_row.update({f'{k}_211': v for k, v in branch_row.to_dict().items()})\n",
    "                merged_row['Match_Method'] = 'Postal Code + Fuzzy Name'\n",
    "                merged_row['Similarity_Score'] = similarity\n",
    "                postal_matched_results.append(merged_row)\n",
    "        else:\n",
    "            bad_row = {\n",
    "                'CRA_Name': cra_subset.iloc[i]['Name'],\n",
    "                '211_Name': two11_subset.iloc[index[0]]['Name'],\n",
    "                'Postal_Code': postal_code,\n",
    "                'Similarity_Score': similarity,\n",
    "                'Match_Status': 'Below Threshold'\n",
    "            }\n",
    "            postal_bad_matches.append(bad_row)\n",
    "\n",
    "postal_fuzzy_results = pd.DataFrame(postal_matched_results) if postal_matched_results else pd.DataFrame()\n",
    "postal_bad_matches_df = pd.DataFrame(postal_bad_matches) if postal_bad_matches else pd.DataFrame()\n",
    "\n",
    "remaining_cra = remaining_cra[~remaining_cra['BN'].isin(postal_fuzzy_results['BN'])]\n",
    "remaining_211 = remaining_211[~remaining_211['clean_name_space'].isin(postal_fuzzy_results['clean_name_space_211'])]\n",
    "\n",
    "print(f\"\\nStep 2 Complete: {len(postal_fuzzy_results)} matched rows\")\n",
    "print(f\"Unique CRA orgs matched: {postal_fuzzy_results['BN'].nunique()}\")\n",
    "print(f\"Unique 211 orgs matched: {postal_fuzzy_results['clean_name_space_211'].nunique()}\")\n",
    "print(f\"Remaining CRA records: {len(remaining_cra)}\")\n",
    "print(f\"Remaining 211 branches: {len(remaining_211)}\")"
   ]
  },
  {
   "cell_type": "code",
   "execution_count": 9,
   "id": "cf12bc2e-c0d7-48ba-8c2e-11ff83259723",
   "metadata": {},
   "outputs": [
    {
     "name": "stdout",
     "output_type": "stream",
     "text": [
      "Embeddings generated\n",
      "Nearest neighbours computed\n"
     ]
    },
    {
     "name": "stderr",
     "output_type": "stream",
     "text": [
      "100%|█████████████████████████████████████| 5917/5917 [00:00<00:00, 6127.90it/s]"
     ]
    },
    {
     "name": "stdout",
     "output_type": "stream",
     "text": [
      "\n",
      "Step 3 Complete: 1096 matched rows\n",
      "Unique CRA orgs matched: 662\n",
      "Unique 211 orgs matched: 237\n",
      "Final Unmatched CRA records: 5255\n",
      "Final Unmatched 211 branches: 4317\n"
     ]
    },
    {
     "name": "stderr",
     "output_type": "stream",
     "text": [
      "\n"
     ]
    }
   ],
   "source": [
    "# General fuzzy matching using clean_name_space\n",
    "general_matched_results = []\n",
    "general_bad_matches = []\n",
    "\n",
    "cra_embeddings = model.encode(remaining_cra['clean_name_space'].tolist())\n",
    "two11_embeddings = model.encode(remaining_211['clean_name_space'].tolist())\n",
    "print('Embeddings generated')\n",
    "\n",
    "nn = NearestNeighbors(n_neighbors=1, metric='cosine').fit(two11_embeddings)\n",
    "distances, indices = nn.kneighbors(cra_embeddings, return_distance=True)\n",
    "print('Nearest neighbours computed')\n",
    "\n",
    "for i in tqdm(range(len(remaining_cra))):\n",
    "    similarity = 1 - distances[i][0]\n",
    "    if similarity >= 0.75:\n",
    "        matched_org_name = remaining_211.iloc[indices[i][0]]['clean_name_space']\n",
    "        matched_branches = remaining_211[remaining_211['clean_name_space'] == matched_org_name]\n",
    "        \n",
    "        for _, branch_row in matched_branches.iterrows():\n",
    "            merged_row = remaining_cra.iloc[i].to_dict()\n",
    "            merged_row.update({f'{k}_211': v for k, v in branch_row.to_dict().items()})\n",
    "            merged_row['Match_Method'] = 'General Fuzzy Match'\n",
    "            merged_row['Similarity_Score'] = similarity\n",
    "            general_matched_results.append(merged_row)\n",
    "    else:\n",
    "        bad_row = {\n",
    "            'CRA_Name': remaining_cra.iloc[i]['Name'],\n",
    "            '211_Name': remaining_211.iloc[indices[i][0]]['Name'],\n",
    "            'Similarity_Score': similarity,\n",
    "            'Match_Status': 'Below Threshold'\n",
    "        }\n",
    "        general_bad_matches.append(bad_row)\n",
    "\n",
    "general_fuzzy_results = pd.DataFrame(general_matched_results) if general_matched_results else pd.DataFrame()\n",
    "general_bad_matches_df = pd.DataFrame(general_bad_matches) if general_bad_matches else pd.DataFrame()\n",
    "\n",
    "remaining_cra = remaining_cra[~remaining_cra['BN'].isin(general_fuzzy_results['BN'])]\n",
    "remaining_211 = remaining_211[~remaining_211['clean_name_space'].isin(general_fuzzy_results['clean_name_space_211'])]\n",
    "\n",
    "print(f\"\\nStep 3 Complete: {len(general_fuzzy_results)} matched rows\")\n",
    "print(f\"Unique CRA orgs matched: {general_fuzzy_results['BN'].nunique()}\")\n",
    "print(f\"Unique 211 orgs matched: {general_fuzzy_results['clean_name_space_211'].nunique()}\")\n",
    "print(f\"Final Unmatched CRA records: {len(remaining_cra)}\")\n",
    "print(f\"Final Unmatched 211 branches: {len(remaining_211)}\")"
   ]
  },
  {
   "cell_type": "code",
   "execution_count": 10,
   "id": "c75e4604-6c1c-4964-a18f-a596855d6f86",
   "metadata": {},
   "outputs": [],
   "source": [
    "exact_match_updated = exact_match_results.drop(\n",
    "    columns=['clean_name', 'clean_name_space_cra', 'clean_name_space_211', 'PostalCode_clean_cra', 'PostalCode_clean_211']\n",
    ").rename(\n",
    "    columns={\n",
    "        'PublicName': '211_PublicName',\n",
    "        'Name_211': '211_Name',\n",
    "        'Latitude': '211_Latitude', \n",
    "        'Longitude': '211_Longitude',\n",
    "    }\n",
    ")\n",
    "\n",
    "postal_fuzzy_updated = postal_fuzzy_results.drop(\n",
    "    columns=['clean_name', 'clean_name_space', 'clean_name_211', 'clean_name_space_211', 'PostalCode_clean', 'PostalCode_clean_211']\n",
    ").rename(\n",
    "    columns={\n",
    "        'Name': 'Name_cra',\n",
    "        'PublicName_211': '211_PublicName',\n",
    "        'Name_211': '211_Name',\n",
    "        '211_Address1_211': '211_Address1', \n",
    "        '211_Address2_211': '211_Address2',\n",
    "        '211_City_211': '211_City', \n",
    "        '211_County_211': '211_County', \n",
    "        '211_Province_211': '211_Province',\n",
    "        '211_PostalCode_211': '211_PostalCode', \n",
    "        'Latitude_211': '211_Latitude', \n",
    "        'Longitude_211': '211_Longitude',\n",
    "    }\n",
    ")\n",
    "\n",
    "general_fuzzy_updated = general_fuzzy_results.drop(\n",
    "    columns=['clean_name', 'clean_name_space', 'clean_name_211', 'clean_name_space_211', 'PostalCode_clean', 'PostalCode_clean_211']\n",
    ").rename(\n",
    "    columns={\n",
    "        'Name': 'Name_cra',\n",
    "        'PublicName_211': '211_PublicName',\n",
    "        'Name_211': '211_Name',\n",
    "        '211_Address1_211': '211_Address1', \n",
    "        '211_Address2_211': '211_Address2',\n",
    "        '211_City_211': '211_City', \n",
    "        '211_County_211': '211_County', \n",
    "        '211_Province_211': '211_Province',\n",
    "        '211_PostalCode_211': '211_PostalCode', \n",
    "        'Latitude_211': '211_Latitude', \n",
    "        'Longitude_211': '211_Longitude',\n",
    "    }\n",
    ")"
   ]
  },
  {
   "cell_type": "code",
   "execution_count": 11,
   "id": "b9493451-8119-417a-84e2-760bd87dd166",
   "metadata": {},
   "outputs": [
    {
     "name": "stdout",
     "output_type": "stream",
     "text": [
      "\n",
      "Final Results:\n",
      "- Successful matches: 2694 records\n",
      "- Unmatched CRA organizations: 5255\n",
      "- Unmatched 211 branches: 4317\n",
      "- Simplified matches saved with 2694 records\n"
     ]
    }
   ],
   "source": [
    "# Combine all successful matches\n",
    "all_matches = pd.concat([\n",
    "    exact_match_updated,\n",
    "    postal_fuzzy_updated,\n",
    "    general_fuzzy_updated\n",
    "], ignore_index=True)\n",
    "\n",
    "# Create output directory\n",
    "os.makedirs('../joined-data', exist_ok=True)\n",
    "\n",
    "# Save all results\n",
    "all_matches.to_csv('../joined-data/successful_matches.csv', index=False)\n",
    "remaining_cra.to_csv('../joined-data/unmatched_cra_records.csv', index=False)\n",
    "remaining_211.to_csv('../joined-data/unmatched_211_records.csv', index=False)\n",
    "pd.concat([postal_bad_matches_df, general_bad_matches_df]).to_csv('../joined-data/failed_fuzzy_matches.csv', index=False)\n",
    "\n",
    "# Create simplified version\n",
    "simplified_matches = all_matches[[\n",
    "    'BN', 'Name_cra', '211_Name', '211_PublicName', \n",
    "    '211_Address1', '211_PostalCode', '211_Longitude', '211_Latitude', 'Match_Method'\n",
    "]].rename(columns={\n",
    "    'BN': 'CRA_BN_ID',\n",
    "    'Name_cra': 'CRA_Organization_Name',\n",
    "    '211_Name': '211_Organization_Name',\n",
    "    '211_PublicName': '211_Location_Name',\n",
    "    '211_Address1': '211_Address',\n",
    "    '211_PostalCode': '211_Postal_Code',\n",
    "    '211_Longitude': 'X_Coordinate',\n",
    "    '211_Latitude': 'Y_Coordinate'\n",
    "})\n",
    "\n",
    "simplified_matches.to_csv('../joined-data/simplified_matches.csv', index=False)\n",
    "\n",
    "print(\"\\nFinal Results:\")\n",
    "print(f\"- Successful matches: {len(all_matches)} records\")\n",
    "print(f\"- Unmatched CRA organizations: {len(remaining_cra)}\")\n",
    "print(f\"- Unmatched 211 branches: {len(remaining_211)}\")\n",
    "print(f\"- Simplified matches saved with {len(simplified_matches)} records\")"
   ]
  }
 ],
 "metadata": {
  "kernelspec": {
   "display_name": "Python 3 (ipykernel)",
   "language": "python",
   "name": "python3"
  },
  "language_info": {
   "codemirror_mode": {
    "name": "ipython",
    "version": 3
   },
   "file_extension": ".py",
   "mimetype": "text/x-python",
   "name": "python",
   "nbconvert_exporter": "python",
   "pygments_lexer": "ipython3",
   "version": "3.12.5"
  }
 },
 "nbformat": 4,
 "nbformat_minor": 5
}
