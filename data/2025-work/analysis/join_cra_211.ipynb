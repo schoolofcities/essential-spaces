{
 "cells": [
  {
   "cell_type": "code",
   "execution_count": 10,
   "id": "3a4dc18f-b57b-4b9f-9c47-1855441946c8",
   "metadata": {},
   "outputs": [],
   "source": [
    "import pandas as pd\n",
    "import numpy as np\n",
    "from tqdm import tqdm\n",
    "import unicodedata\n",
    "import re\n",
    "import os"
   ]
  },
  {
   "cell_type": "code",
   "execution_count": 11,
   "id": "d73f9d2d-46ab-4396-9487-bf6b172ec611",
   "metadata": {},
   "outputs": [
    {
     "data": {
      "application/vnd.jupyter.widget-view+json": {
       "model_id": "4e8a8fb980ed48819fefb4609105daa9",
       "version_major": 2,
       "version_minor": 0
      },
      "text/plain": [
       "modules.json:   0%|          | 0.00/229 [00:00<?, ?B/s]"
      ]
     },
     "metadata": {},
     "output_type": "display_data"
    },
    {
     "data": {
      "application/vnd.jupyter.widget-view+json": {
       "model_id": "92cda747372b424b8b9dd14125c826b3",
       "version_major": 2,
       "version_minor": 0
      },
      "text/plain": [
       "config_sentence_transformers.json:   0%|          | 0.00/122 [00:00<?, ?B/s]"
      ]
     },
     "metadata": {},
     "output_type": "display_data"
    },
    {
     "data": {
      "application/vnd.jupyter.widget-view+json": {
       "model_id": "994fa49769424ce8bec95e61c43a7ad0",
       "version_major": 2,
       "version_minor": 0
      },
      "text/plain": [
       "README.md:   0%|          | 0.00/3.52k [00:00<?, ?B/s]"
      ]
     },
     "metadata": {},
     "output_type": "display_data"
    },
    {
     "data": {
      "application/vnd.jupyter.widget-view+json": {
       "model_id": "7adefe1b83074a6e9022f4c877f252d9",
       "version_major": 2,
       "version_minor": 0
      },
      "text/plain": [
       "sentence_bert_config.json:   0%|          | 0.00/53.0 [00:00<?, ?B/s]"
      ]
     },
     "metadata": {},
     "output_type": "display_data"
    },
    {
     "data": {
      "application/vnd.jupyter.widget-view+json": {
       "model_id": "eaa52fc16c45444980783ca57c0f7252",
       "version_major": 2,
       "version_minor": 0
      },
      "text/plain": [
       "config.json:   0%|          | 0.00/594 [00:00<?, ?B/s]"
      ]
     },
     "metadata": {},
     "output_type": "display_data"
    },
    {
     "data": {
      "application/vnd.jupyter.widget-view+json": {
       "model_id": "17d8ff1c4bfe4e87900561833f73a87f",
       "version_major": 2,
       "version_minor": 0
      },
      "text/plain": [
       "model.safetensors:   0%|          | 0.00/438M [00:00<?, ?B/s]"
      ]
     },
     "metadata": {},
     "output_type": "display_data"
    },
    {
     "data": {
      "application/vnd.jupyter.widget-view+json": {
       "model_id": "dde506ccc57c47c5a41420f8ae9a5da7",
       "version_major": 2,
       "version_minor": 0
      },
      "text/plain": [
       "tokenizer_config.json:   0%|          | 0.00/1.19k [00:00<?, ?B/s]"
      ]
     },
     "metadata": {},
     "output_type": "display_data"
    },
    {
     "data": {
      "application/vnd.jupyter.widget-view+json": {
       "model_id": "826ad27734744a24ba75c8fcce7f7f81",
       "version_major": 2,
       "version_minor": 0
      },
      "text/plain": [
       "vocab.txt:   0%|          | 0.00/232k [00:00<?, ?B/s]"
      ]
     },
     "metadata": {},
     "output_type": "display_data"
    },
    {
     "data": {
      "application/vnd.jupyter.widget-view+json": {
       "model_id": "3601402fae894ca19e7d484b97c0088d",
       "version_major": 2,
       "version_minor": 0
      },
      "text/plain": [
       "tokenizer.json:   0%|          | 0.00/466k [00:00<?, ?B/s]"
      ]
     },
     "metadata": {},
     "output_type": "display_data"
    },
    {
     "data": {
      "application/vnd.jupyter.widget-view+json": {
       "model_id": "97740a8af51b45408181336a737c8151",
       "version_major": 2,
       "version_minor": 0
      },
      "text/plain": [
       "special_tokens_map.json:   0%|          | 0.00/239 [00:00<?, ?B/s]"
      ]
     },
     "metadata": {},
     "output_type": "display_data"
    },
    {
     "data": {
      "application/vnd.jupyter.widget-view+json": {
       "model_id": "a4386071db5c425cb45567bf329ea7d5",
       "version_major": 2,
       "version_minor": 0
      },
      "text/plain": [
       "config.json:   0%|          | 0.00/190 [00:00<?, ?B/s]"
      ]
     },
     "metadata": {},
     "output_type": "display_data"
    }
   ],
   "source": [
    "from sentence_transformers import SentenceTransformer, util\n",
    "from sklearn.neighbors import NearestNeighbors\n",
    "\n",
    "# Initialize BERT model\n",
    "model = SentenceTransformer('paraphrase-mpnet-base-v2')"
   ]
  },
  {
   "cell_type": "markdown",
   "id": "9a5c1f24-7277-4bfb-92f2-c15a641f6cb0",
   "metadata": {},
   "source": [
    "## Load data"
   ]
  },
  {
   "cell_type": "code",
   "execution_count": 12,
   "id": "2515d0ef-41ce-4c9a-a6ab-2cdda9ef1cdf",
   "metadata": {},
   "outputs": [],
   "source": [
    "df_cra = pd.read_csv(\"../cra-data/cra_2021_combined_filtered.csv\")\n",
    "df_cra = df_cra.rename(columns={\"Account Name\":\"Name\"})\n",
    "# df_cra[\"Name\"] = df_cra[\"Name\"].str.split(pat=\" - \", n=1).str[0]  # Removes any branch information - eg. \"Community Center - North Branch\" --> \"Community Center\"\n",
    "df_cra = df_cra.drop_duplicates(subset=[\"Name\"]).reset_index(drop=True)"
   ]
  },
  {
   "cell_type": "code",
   "execution_count": 13,
   "id": "4f7e865b-85d7-45b3-a1b5-e155ed214a47",
   "metadata": {},
   "outputs": [],
   "source": [
    "# Clean and rename 211 data\n",
    "df_211 = pd.read_csv(\"../211-data/2021_211_PeelYorkTO.csv\", encoding='latin-1')\n",
    "df_211 = df_211.drop(columns=[\"TaxonomyTerms\"])\n",
    "df_211 = df_211.rename(columns={\n",
    "    \"ParentAgency\":\"Name\",\n",
    "    \"Address1\":\"211_Address1\",\n",
    "    \"Address2\":\"211_Address2\",\n",
    "    \"City\":\"211_City\",\n",
    "    \"County\":\"211_County\",\n",
    "    \"Province\":\"211_Province\",\n",
    "    \"PostalCode\":\"211_PostalCode\",\n",
    "})\n",
    "df_211 = df_211.drop_duplicates(subset=[\"PublicName\", \"Latitude\", \"Longitude\"]).reset_index(drop=True)"
   ]
  },
  {
   "cell_type": "markdown",
   "id": "5540cde1-8fee-40cb-b7d2-e8c4fe3162e6",
   "metadata": {},
   "source": [
    "## Algorithmic matching"
   ]
  },
  {
   "cell_type": "code",
   "execution_count": 14,
   "id": "080e0b75-57af-404b-a2d9-1431d2c2027a",
   "metadata": {},
   "outputs": [
    {
     "name": "stdout",
     "output_type": "stream",
     "text": [
      "Data preparation complete\n",
      "CRA records: 6519\n",
      "211 records: 6405\n"
     ]
    }
   ],
   "source": [
    "# Clean text function\n",
    "def clean_text(text):\n",
    "    if pd.isna(text):\n",
    "        return ''\n",
    "    text = unicodedata.normalize('NFKD', str(text)).encode('ascii', 'ignore').decode('ascii')\n",
    "    text = re.sub(r'[^a-zA-Z0-9]', '', text).lower()\n",
    "    return text\n",
    "\n",
    "# Prepare CRA data\n",
    "df_cra_prep = df_cra.copy()\n",
    "df_cra_prep['clean_name'] = df_cra['Name'].apply(clean_text)\n",
    "df_cra_prep['PostalCode_clean'] = df_cra['Postal Code'].str.replace(r'\\s+', '', regex=True)\n",
    "\n",
    "# Prepare 211 data\n",
    "df_211_prep = df_211.copy()\n",
    "df_211_prep['clean_name'] = df_211['Name'].apply(clean_text)\n",
    "df_211_prep['PostalCode_clean'] = df_211['211_PostalCode'].str.replace(r'\\s+', '', regex=True)\n",
    "\n",
    "print(\"Data preparation complete\")\n",
    "print(f\"CRA records: {len(df_cra_prep)}\")\n",
    "print(f\"211 records: {len(df_211_prep)}\")"
   ]
  },
  {
   "cell_type": "code",
   "execution_count": 15,
   "id": "a82d2760-9dba-45ee-b6cd-eaf5171bab37",
   "metadata": {},
   "outputs": [
    {
     "name": "stdout",
     "output_type": "stream",
     "text": [
      "Step 1 Complete: 1094 matched rows\n",
      "Unique CRA orgs matched: 393\n",
      "Unique 211 orgs matched: 393\n",
      "Remaining CRA records: 6126\n",
      "Remaining 211 branches: 5311\n"
     ]
    }
   ],
   "source": [
    "# Exact name matching\n",
    "exact_matches = pd.merge(\n",
    "    df_cra_prep,\n",
    "    df_211_prep,\n",
    "    on='clean_name',\n",
    "    how='inner',\n",
    "    suffixes=('_cra', '_211')\n",
    ")\n",
    "\n",
    "if not exact_matches.empty:\n",
    "    matched_orgs = exact_matches['clean_name'].unique()\n",
    "    all_branches = df_211_prep[df_211_prep['clean_name'].isin(matched_orgs)]\n",
    "    \n",
    "    exact_match_results = pd.merge(\n",
    "        df_cra_prep[df_cra_prep['clean_name'].isin(matched_orgs)],\n",
    "        all_branches,\n",
    "        on='clean_name',\n",
    "        how='left',\n",
    "        suffixes=('_cra', '_211')\n",
    "    )\n",
    "    exact_match_results['Match_Method'] = 'Exact Name'\n",
    "else:\n",
    "    exact_match_results = pd.DataFrame()\n",
    "\n",
    "remaining_cra = df_cra_prep[~df_cra_prep['clean_name'].isin(exact_match_results['clean_name'].unique())]\n",
    "remaining_211 = df_211_prep[~df_211_prep['clean_name'].isin(exact_match_results['clean_name'].unique())]\n",
    "\n",
    "print(f\"Step 1 Complete: {len(exact_match_results)} matched rows\")\n",
    "print(f\"Unique CRA orgs matched: {exact_match_results['BN'].nunique()}\")\n",
    "print(f\"Unique 211 orgs matched: {exact_match_results['clean_name'].nunique()}\")\n",
    "print(f\"Remaining CRA records: {len(remaining_cra)}\")\n",
    "print(f\"Remaining 211 branches: {len(remaining_211)}\")"
   ]
  },
  {
   "cell_type": "code",
   "execution_count": 18,
   "id": "c2d23bd9-fc2d-4dde-afec-2ff9f1d81a35",
   "metadata": {},
   "outputs": [
    {
     "name": "stderr",
     "output_type": "stream",
     "text": [
      "100%|█████████████████████████████████████████| 852/852 [01:59<00:00,  7.15it/s]"
     ]
    },
    {
     "name": "stdout",
     "output_type": "stream",
     "text": [
      "\n",
      "Step 2 Complete: 433 matched rows\n",
      "Unique CRA orgs matched: 178\n",
      "Unique 211 orgs matched: 175\n",
      "Remaining CRA records: 5948\n",
      "Remaining 211 branches: 4897\n"
     ]
    },
    {
     "name": "stderr",
     "output_type": "stream",
     "text": [
      "\n"
     ]
    }
   ],
   "source": [
    "# Postal code + fuzzy name matching\n",
    "common_postal_codes = set(remaining_cra['PostalCode_clean']).intersection(set(remaining_211['PostalCode_clean']))\n",
    "postal_matched_results = []\n",
    "postal_bad_matches = []\n",
    "\n",
    "for postal_code in tqdm(common_postal_codes):\n",
    "    cra_subset = remaining_cra[remaining_cra['PostalCode_clean'] == postal_code]\n",
    "    two11_subset = remaining_211[remaining_211['PostalCode_clean'] == postal_code]\n",
    "    \n",
    "    if len(cra_subset) == 0 or len(two11_subset) == 0:\n",
    "        continue\n",
    "        \n",
    "    cra_embeddings = model.encode(cra_subset['clean_name'].tolist())\n",
    "    two11_embeddings = model.encode(two11_subset['clean_name'].tolist())\n",
    "    \n",
    "    nn = NearestNeighbors(n_neighbors=1, metric='cosine').fit(two11_embeddings)\n",
    "    distances, indices = nn.kneighbors(cra_embeddings, return_distance=True)\n",
    "    \n",
    "    for i, (distance, index) in enumerate(zip(distances, indices)):\n",
    "        similarity = 1 - distance[0]\n",
    "        if similarity >= 0.80:\n",
    "            matched_org_name = two11_subset.iloc[index[0]]['clean_name']\n",
    "            matched_branches = remaining_211[remaining_211['clean_name'] == matched_org_name]\n",
    "            \n",
    "            for _, branch_row in matched_branches.iterrows():\n",
    "                merged_row = cra_subset.iloc[i].to_dict()\n",
    "                merged_row.update({f'{k}_211': v for k, v in branch_row.to_dict().items()})\n",
    "                merged_row['Match_Method'] = 'Postal Code + Fuzzy Name'\n",
    "                merged_row['Similarity_Score'] = similarity\n",
    "                postal_matched_results.append(merged_row)\n",
    "        else:\n",
    "            bad_row = {\n",
    "                'CRA_Name': cra_subset.iloc[i]['Name'],\n",
    "                '211_Name': two11_subset.iloc[index[0]]['Name'],\n",
    "                'Postal_Code': postal_code,\n",
    "                'Similarity_Score': similarity,\n",
    "                'Match_Status': 'Below Threshold'\n",
    "            }\n",
    "            postal_bad_matches.append(bad_row)\n",
    "\n",
    "postal_fuzzy_results = pd.DataFrame(postal_matched_results) if postal_matched_results else pd.DataFrame()\n",
    "postal_bad_matches_df = pd.DataFrame(postal_bad_matches) if postal_bad_matches else pd.DataFrame()\n",
    "\n",
    "remaining_cra = remaining_cra[~remaining_cra['BN'].isin(postal_fuzzy_results['BN'])]\n",
    "remaining_211 = remaining_211[~remaining_211['clean_name'].isin(postal_fuzzy_results['clean_name_211'])]\n",
    "\n",
    "print(f\"\\nStep 2 Complete: {len(postal_fuzzy_results)} matched rows\")\n",
    "print(f\"Unique CRA orgs matched: {postal_fuzzy_results['BN'].nunique()}\")\n",
    "print(f\"Unique 211 orgs matched: {postal_fuzzy_results['clean_name_211'].nunique()}\")\n",
    "print(f\"Remaining CRA records: {len(remaining_cra)}\")\n",
    "print(f\"Remaining 211 branches: {len(remaining_211)}\")"
   ]
  },
  {
   "cell_type": "code",
   "execution_count": 21,
   "id": "cf12bc2e-c0d7-48ba-8c2e-11ff83259723",
   "metadata": {},
   "outputs": [
    {
     "name": "stderr",
     "output_type": "stream",
     "text": [
      "100%|█████████████████████████████████████| 5948/5948 [00:01<00:00, 4603.91it/s]"
     ]
    },
    {
     "name": "stdout",
     "output_type": "stream",
     "text": [
      "\n",
      "Step 3 Complete: 1778 matched rows\n",
      "Unique CRA orgs matched: 1015\n",
      "Unique 211 orgs matched: 373\n",
      "Final Unmatched CRA records: 4933\n",
      "Final Unmatched 211 branches: 4085\n"
     ]
    },
    {
     "name": "stderr",
     "output_type": "stream",
     "text": [
      "\n"
     ]
    }
   ],
   "source": [
    "# General fuzzy matching\n",
    "general_matched_results = []\n",
    "general_bad_matches = []\n",
    "\n",
    "cra_embeddings = model.encode(remaining_cra['clean_name'].tolist())\n",
    "two11_embeddings = model.encode(remaining_211['clean_name'].tolist())\n",
    "\n",
    "nn = NearestNeighbors(n_neighbors=1, metric='cosine').fit(two11_embeddings)\n",
    "distances, indices = nn.kneighbors(cra_embeddings, return_distance=True)\n",
    "\n",
    "for i in tqdm(range(len(remaining_cra))):\n",
    "    similarity = 1 - distances[i][0]\n",
    "    if similarity >= 0.75:\n",
    "        matched_org_name = remaining_211.iloc[indices[i][0]]['clean_name']\n",
    "        matched_branches = remaining_211[remaining_211['clean_name'] == matched_org_name]\n",
    "        \n",
    "        for _, branch_row in matched_branches.iterrows():\n",
    "            merged_row = remaining_cra.iloc[i].to_dict()\n",
    "            merged_row.update({f'{k}_211': v for k, v in branch_row.to_dict().items()})\n",
    "            merged_row['Match_Method'] = 'General Fuzzy Match'\n",
    "            merged_row['Similarity_Score'] = similarity\n",
    "            general_matched_results.append(merged_row)\n",
    "    else:\n",
    "        bad_row = {\n",
    "            'CRA_Name': remaining_cra.iloc[i]['Name'],\n",
    "            '211_Name': remaining_211.iloc[indices[i][0]]['Name'],\n",
    "            'Similarity_Score': similarity,\n",
    "            'Match_Status': 'Below Threshold'\n",
    "        }\n",
    "        general_bad_matches.append(bad_row)\n",
    "\n",
    "general_fuzzy_results = pd.DataFrame(general_matched_results) if general_matched_results else pd.DataFrame()\n",
    "general_bad_matches_df = pd.DataFrame(general_bad_matches) if general_bad_matches else pd.DataFrame()\n",
    "\n",
    "remaining_cra = remaining_cra[~remaining_cra['BN'].isin(general_fuzzy_results['BN'])]\n",
    "remaining_211 = remaining_211[~remaining_211['clean_name'].isin(general_fuzzy_results['clean_name_211'])]\n",
    "\n",
    "print(f\"\\nStep 3 Complete: {len(general_fuzzy_results)} matched rows\")\n",
    "print(f\"Unique CRA orgs matched: {general_fuzzy_results['BN'].nunique()}\")\n",
    "print(f\"Unique 211 orgs matched: {general_fuzzy_results['clean_name_211'].nunique()}\")\n",
    "print(f\"Final Unmatched CRA records: {len(remaining_cra)}\")\n",
    "print(f\"Final Unmatched 211 branches: {len(remaining_211)}\")"
   ]
  },
  {
   "cell_type": "code",
   "execution_count": 22,
   "id": "b9493451-8119-417a-84e2-760bd87dd166",
   "metadata": {},
   "outputs": [
    {
     "name": "stdout",
     "output_type": "stream",
     "text": [
      "\n",
      "Final Results:\n",
      "- Successful matches: 3305 records\n",
      "- Unmatched CRA organizations: 4933\n",
      "- Unmatched 211 branches: 4085\n",
      "- Simplified matches saved with 3305 records\n"
     ]
    }
   ],
   "source": [
    "# Combine all successful matches\n",
    "all_matches = pd.concat([\n",
    "    exact_match_results,\n",
    "    postal_fuzzy_results,\n",
    "    general_fuzzy_results\n",
    "], ignore_index=True)\n",
    "\n",
    "# Create output directory\n",
    "os.makedirs('../joined-data', exist_ok=True)\n",
    "\n",
    "# Save all results\n",
    "all_matches.to_csv('../joined-data/successful_matches.csv', index=False)\n",
    "remaining_cra.to_csv('../joined-data/unmatched_cra_records.csv', index=False)\n",
    "remaining_211.to_csv('../joined-data/unmatched_211_records.csv', index=False)\n",
    "pd.concat([postal_bad_matches_df, general_bad_matches_df]).to_csv('../joined-data/failed_fuzzy_matches.csv', index=False)\n",
    "\n",
    "# Create simplified version\n",
    "simplified_matches = all_matches[[\n",
    "    'BN', 'Name_cra', 'Name_211', 'PublicName_211', \n",
    "    '211_Address1', '211_PostalCode', 'Longitude', 'Latitude', 'Match_Method'\n",
    "]].rename(columns={\n",
    "    'BN': 'CRA_BN_ID',\n",
    "    'Name_cra': 'CRA_Organization_Name',\n",
    "    'Name_211': '211_Organization_Name',\n",
    "    'PublicName_211': '211_Location_Name',\n",
    "    '211_Address1': '211_Address',\n",
    "    '211_PostalCode': '211_Postal_Code',\n",
    "    'Longitude': 'X_Coordinate',\n",
    "    'Latitude': 'Y_Coordinate'\n",
    "})\n",
    "\n",
    "simplified_matches.to_csv('../joined-data/simplified_matches.csv', index=False)\n",
    "\n",
    "print(\"\\nFinal Results:\")\n",
    "print(f\"- Successful matches: {len(all_matches)} records\")\n",
    "print(f\"- Unmatched CRA organizations: {len(remaining_cra)}\")\n",
    "print(f\"- Unmatched 211 branches: {len(remaining_211)}\")\n",
    "print(f\"- Simplified matches saved with {len(simplified_matches)} records\")"
   ]
  }
 ],
 "metadata": {
  "kernelspec": {
   "display_name": "Python 3 (ipykernel)",
   "language": "python",
   "name": "python3"
  },
  "language_info": {
   "codemirror_mode": {
    "name": "ipython",
    "version": 3
   },
   "file_extension": ".py",
   "mimetype": "text/x-python",
   "name": "python",
   "nbconvert_exporter": "python",
   "pygments_lexer": "ipython3",
   "version": "3.12.5"
  }
 },
 "nbformat": 4,
 "nbformat_minor": 5
}
