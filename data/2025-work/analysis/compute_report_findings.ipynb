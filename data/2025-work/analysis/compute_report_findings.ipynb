{
 "cells": [
  {
   "cell_type": "code",
   "execution_count": 1,
   "id": "63a43582-eddc-48b0-94ce-d509efc5be46",
   "metadata": {},
   "outputs": [],
   "source": [
    "import pandas as pd\n",
    "import geopandas as gpd\n",
    "import numpy as np"
   ]
  },
  {
   "cell_type": "code",
   "execution_count": 13,
   "id": "new-empty-cell",
   "metadata": {},
   "outputs": [],
   "source": [
    "# gdf_locations = gpd.read_file('../joined-data/simplified_matches_4326.geo.json')\n",
    "\n",
    "df_matches_all = pd.read_csv('../joined-data/simplified_matches_uw_tenure_full_cra.csv')\n",
    "gdf_locations = gpd.GeoDataFrame(\n",
    "    df_matches_all, geometry=gpd.points_from_xy(df_matches_all.X_Coordinate, df_matches_all.Y_Coordinate), crs=\"EPSG:4326\"\n",
    ")\n",
    "gdf_locations = gdf_locations[[\n",
    "    'CRA_BN_ID', 'CRA_Organization_Name', 'CRA_Category', 'CRA_SubCategory',\n",
    "    '211_Organization_Name', '211_Location_Name', '211_Address', '211_City',\n",
    "    '211_Postal_Code', 'X_Coordinate', 'Y_Coordinate', 'Tenure', 'UW']]\n",
    "\n",
    "def assign_region(city):\n",
    "    if city == 'Toronto':\n",
    "        return 'Toronto'\n",
    "    elif city in ['Brampton', 'Mississauga', 'Caledon']:\n",
    "        return 'Peel'\n",
    "    else:\n",
    "        return 'York'\n",
    "\n",
    "gdf_locations['region'] = gdf_locations['211_City'].apply(assign_region)\n",
    "\n",
    "gdf_ct = gpd.read_file('../equity-data/ct-data-all.geo.json')"
   ]
  },
  {
   "cell_type": "markdown",
   "id": "c28bfabb-a4ea-47ec-8d84-61a529e5493d",
   "metadata": {},
   "source": [
    "Finding 3: Average number of agency spaces (ie. individual locations) within a census tract area (ie. completely within a census tract or no more than 800 meters away from it). We want to break this down by each of the quantiles of the equity index as well."
   ]
  },
  {
   "cell_type": "code",
   "execution_count": null,
   "id": "4101dcd9",
   "metadata": {},
   "outputs": [],
   "source": []
  },
  {
   "cell_type": "markdown",
   "id": "f79d3580-a6be-46de-bd4c-e896dd72b8e4",
   "metadata": {},
   "source": [
    "Finding 4: Percentage of agency spaces near existing and future transit stations (ie. within 800m). We want this broken down by owned (CORE) and leased (CLRE)"
   ]
  },
  {
   "cell_type": "code",
   "execution_count": null,
   "id": "1b142c17-0f2a-4b5e-8f09-64294e033b9a",
   "metadata": {},
   "outputs": [],
   "source": []
  },
  {
   "cell_type": "markdown",
   "id": "568a7134-6068-4536-a07d-b0a3b419a112",
   "metadata": {},
   "source": [
    "Finding 5: Percentage of agency spaces which are rented (CLRE), broken down by municipality and equity index quintile"
   ]
  },
  {
   "cell_type": "code",
   "execution_count": null,
   "id": "612c5230-60de-4a81-89a3-d7acaac2e52e",
   "metadata": {},
   "outputs": [],
   "source": []
  }
 ],
 "metadata": {
  "kernelspec": {
   "display_name": "py312",
   "language": "python",
   "name": "python3"
  },
  "language_info": {
   "codemirror_mode": {
    "name": "ipython",
    "version": 3
   },
   "file_extension": ".py",
   "mimetype": "text/x-python",
   "name": "python",
   "nbconvert_exporter": "python",
   "pygments_lexer": "ipython3",
   "version": "3.12.5"
  }
 },
 "nbformat": 4,
 "nbformat_minor": 5
}
