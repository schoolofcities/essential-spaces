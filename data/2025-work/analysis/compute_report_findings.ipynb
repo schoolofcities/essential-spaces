{
 "cells": [
  {
   "cell_type": "code",
   "execution_count": 7,
   "id": "63a43582-eddc-48b0-94ce-d509efc5be46",
   "metadata": {},
   "outputs": [],
   "source": [
    "import pandas as pd\n",
    "import geopandas as gpd\n",
    "import numpy as np"
   ]
  },
  {
   "cell_type": "code",
   "execution_count": 8,
   "id": "139ddba7",
   "metadata": {},
   "outputs": [],
   "source": [
    "EQUITY_QUINTILES = [0, 0.3, 0.37, 0.44, 0.53, 1]"
   ]
  },
  {
   "cell_type": "code",
   "execution_count": 9,
   "id": "new-empty-cell",
   "metadata": {},
   "outputs": [],
   "source": [
    "gdf_locations = gpd.read_file('../joined-data/simplified_matches_4326_full.geo.json').to_crs(3857)\n",
    "gdf_ct = gpd.read_file('../ct-data/ct-data-all.geo.json').to_crs(3857)"
   ]
  },
  {
   "cell_type": "markdown",
   "id": "c28bfabb-a4ea-47ec-8d84-61a529e5493d",
   "metadata": {},
   "source": [
    "Finding 3: Average number of agency spaces (ie. individual locations) within a census tract area (ie. completely within a census tract or no more than 800 meters away from it). We want to break this down by each of the quantiles of the equity index as well."
   ]
  },
  {
   "cell_type": "code",
   "execution_count": 10,
   "id": "4101dcd9",
   "metadata": {},
   "outputs": [
    {
     "data": {
      "text/html": [
       "<div>\n",
       "<style scoped>\n",
       "    .dataframe tbody tr th:only-of-type {\n",
       "        vertical-align: middle;\n",
       "    }\n",
       "\n",
       "    .dataframe tbody tr th {\n",
       "        vertical-align: top;\n",
       "    }\n",
       "\n",
       "    .dataframe thead th {\n",
       "        text-align: right;\n",
       "    }\n",
       "</style>\n",
       "<table border=\"1\" class=\"dataframe\">\n",
       "  <thead>\n",
       "    <tr style=\"text-align: right;\">\n",
       "      <th></th>\n",
       "      <th>quintile</th>\n",
       "      <th>total_avg</th>\n",
       "      <th>Peel</th>\n",
       "      <th>Toronto</th>\n",
       "      <th>York</th>\n",
       "    </tr>\n",
       "  </thead>\n",
       "  <tbody>\n",
       "    <tr>\n",
       "      <th>0</th>\n",
       "      <td>Q_all</td>\n",
       "      <td>11.3859</td>\n",
       "      <td>3.3085</td>\n",
       "      <td>17.3333</td>\n",
       "      <td>5.3182</td>\n",
       "    </tr>\n",
       "    <tr>\n",
       "      <th>1</th>\n",
       "      <td>Q1</td>\n",
       "      <td>11.8609</td>\n",
       "      <td>1.6042</td>\n",
       "      <td>18.3094</td>\n",
       "      <td>2.4651</td>\n",
       "    </tr>\n",
       "    <tr>\n",
       "      <th>2</th>\n",
       "      <td>Q2</td>\n",
       "      <td>11.0150</td>\n",
       "      <td>2.3492</td>\n",
       "      <td>20.7284</td>\n",
       "      <td>6.7143</td>\n",
       "    </tr>\n",
       "    <tr>\n",
       "      <th>3</th>\n",
       "      <td>Q3</td>\n",
       "      <td>10.7554</td>\n",
       "      <td>3.1882</td>\n",
       "      <td>20.5161</td>\n",
       "      <td>5.9455</td>\n",
       "    </tr>\n",
       "    <tr>\n",
       "      <th>4</th>\n",
       "      <td>Q4</td>\n",
       "      <td>8.5100</td>\n",
       "      <td>5.1148</td>\n",
       "      <td>11.0374</td>\n",
       "      <td>6.5312</td>\n",
       "    </tr>\n",
       "    <tr>\n",
       "      <th>5</th>\n",
       "      <td>Q5</td>\n",
       "      <td>14.7871</td>\n",
       "      <td>5.0000</td>\n",
       "      <td>17.1333</td>\n",
       "      <td>2.9167</td>\n",
       "    </tr>\n",
       "  </tbody>\n",
       "</table>\n",
       "</div>"
      ],
      "text/plain": [
       "  quintile  total_avg    Peel  Toronto    York\n",
       "0    Q_all    11.3859  3.3085  17.3333  5.3182\n",
       "1       Q1    11.8609  1.6042  18.3094  2.4651\n",
       "2       Q2    11.0150  2.3492  20.7284  6.7143\n",
       "3       Q3    10.7554  3.1882  20.5161  5.9455\n",
       "4       Q4     8.5100  5.1148  11.0374  6.5312\n",
       "5       Q5    14.7871  5.0000  17.1333  2.9167"
      ]
     },
     "execution_count": 10,
     "metadata": {},
     "output_type": "execute_result"
    }
   ],
   "source": [
    "# Assign quintile labels based on equity index\n",
    "gdf_ct['quintile'] = pd.cut(\n",
    "    gdf_ct['Equity Index'], bins=EQUITY_QUINTILES, labels=['Q1', 'Q2', 'Q3', 'Q4', 'Q5'], include_lowest=True\n",
    ")\n",
    "\n",
    "result = []\n",
    "\n",
    "# Compute averages for all quintiles combined and by region\n",
    "all_quintiles = {\n",
    "    'quintile': 'Q_all',\n",
    "    'total_avg': gdf_ct['total_count_800m'].mean()\n",
    "}\n",
    "for region in ['Peel', 'Toronto', 'York']:\n",
    "    all_quintiles[region] = gdf_ct.loc[gdf_ct['region'] == region, 'total_count_800m'].mean()\n",
    "result.append(all_quintiles)\n",
    "\n",
    "# Compute averages for each quintile and by region\n",
    "for quintile in ['Q1', 'Q2', 'Q3', 'Q4', 'Q5']:\n",
    "    quintile_data = gdf_ct[gdf_ct['quintile'] == quintile]\n",
    "    row = {\n",
    "        'quintile': quintile,\n",
    "        'total_avg': quintile_data['total_count_800m'].mean()\n",
    "    }\n",
    "    for region in ['Peel', 'Toronto', 'York']:\n",
    "        row[region] = quintile_data.loc[quintile_data['region'] == region, 'total_count_800m'].mean()\n",
    "    result.append(row)\n",
    "\n",
    "# Save results to a DataFrame and CSV\n",
    "average_locations_df = pd.DataFrame(result)\n",
    "average_locations_df = average_locations_df.round(4)  # Round all numbers to 4 decimal places\n",
    "average_locations_df.to_csv('../report-results/3_avg_locations.csv', index=False)\n",
    "\n",
    "average_locations_df"
   ]
  },
  {
   "cell_type": "markdown",
   "id": "f79d3580-a6be-46de-bd4c-e896dd72b8e4",
   "metadata": {},
   "source": [
    "Finding 4: Percentage of agency spaces near existing and future transit stations (ie. within 800m). We want this broken down by owned (CORE) and leased (CLRE)"
   ]
  },
  {
   "cell_type": "code",
   "execution_count": null,
   "id": "1b142c17-0f2a-4b5e-8f09-64294e033b9a",
   "metadata": {},
   "outputs": [],
   "source": []
  },
  {
   "cell_type": "markdown",
   "id": "568a7134-6068-4536-a07d-b0a3b419a112",
   "metadata": {},
   "source": [
    "Finding 5: Percentage of agency spaces which are rented (CLRE), broken down by municipality and equity index quintile"
   ]
  },
  {
   "cell_type": "code",
   "execution_count": null,
   "id": "612c5230-60de-4a81-89a3-d7acaac2e52e",
   "metadata": {},
   "outputs": [],
   "source": []
  }
 ],
 "metadata": {
  "kernelspec": {
   "display_name": "py312",
   "language": "python",
   "name": "python3"
  },
  "language_info": {
   "codemirror_mode": {
    "name": "ipython",
    "version": 3
   },
   "file_extension": ".py",
   "mimetype": "text/x-python",
   "name": "python",
   "nbconvert_exporter": "python",
   "pygments_lexer": "ipython3",
   "version": "3.12.5"
  }
 },
 "nbformat": 4,
 "nbformat_minor": 5
}
