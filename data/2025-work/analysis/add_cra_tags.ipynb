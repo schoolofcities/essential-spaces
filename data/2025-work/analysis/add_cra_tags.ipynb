{
 "cells": [
  {
   "cell_type": "code",
   "execution_count": 1,
   "id": "56fd1ac3-9125-4ce1-8b5e-be699a77e78b",
   "metadata": {},
   "outputs": [],
   "source": [
    "import pandas as pd\n",
    "import geopandas as gpd\n",
    "import numpy as np"
   ]
  },
  {
   "cell_type": "markdown",
   "id": "0822e0e0-8146-4011-b005-f3248cce24c0",
   "metadata": {},
   "source": [
    "## Add in the numerous codes from the CRA data"
   ]
  },
  {
   "cell_type": "code",
   "execution_count": 2,
   "id": "af689bf3-79b5-4806-a8a3-ff75110f2da6",
   "metadata": {},
   "outputs": [],
   "source": [
    "df_matches = pd.read_csv('../joined-data/simplified_matches_uw_tenure_full.csv')"
   ]
  },
  {
   "cell_type": "code",
   "execution_count": 3,
   "id": "1d1a196b-acde-454d-a4cb-d704143e980e",
   "metadata": {},
   "outputs": [],
   "source": [
    "def rename_columns_with_prefix(df, cols, prefix):\n",
    "    rename_dict = {}\n",
    "    \n",
    "    for col in cols:\n",
    "        if col in df.columns:\n",
    "            # Special case: if column is 'BN', rename to 'CRA_BN_ID'\n",
    "            if col == 'BN':\n",
    "                rename_dict[col] = 'CRA_BN_ID'\n",
    "            else:\n",
    "                # Add prefix to other columns\n",
    "                rename_dict[col] = f\"{prefix}_{col}\".strip()\n",
    "    \n",
    "    # Apply the renaming\n",
    "    df_renamed = df[cols].rename(columns=rename_dict)\n",
    "    \n",
    "    return df_renamed"
   ]
  },
  {
   "cell_type": "markdown",
   "id": "acfcc444-79b3-4df2-989b-8635d490ca36",
   "metadata": {},
   "source": [
    "Add financial data from 2011"
   ]
  },
  {
   "cell_type": "code",
   "execution_count": 4,
   "id": "5d31a630-f463-4e23-88f7-43a019d3f964",
   "metadata": {},
   "outputs": [],
   "source": [
    "df_fin11 = pd.read_csv('../cra-data/2011 CRA Charities - Financial Data(in).csv', encoding='latin')\n",
    "df_fin11 = rename_columns_with_prefix(df_fin11, ['BN', '4050', '4155', '4610', '4700', '4850', '5100'], 'CRA11')\n",
    "df_matches_2 = pd.merge(\n",
    "    df_matches,\n",
    "    df_fin11,\n",
    "    on='CRA_BN_ID',\n",
    "    how='left'\n",
    ")"
   ]
  },
  {
   "cell_type": "markdown",
   "id": "62cee247-a880-4921-9f4b-e8bec299b256",
   "metadata": {},
   "source": [
    "Add financial data from 2021"
   ]
  },
  {
   "cell_type": "code",
   "execution_count": 5,
   "id": "375c4d8f-4753-446e-bcec-f2a5c0803722",
   "metadata": {},
   "outputs": [
    {
     "name": "stderr",
     "output_type": "stream",
     "text": [
      "/tmp/ipykernel_3423735/512825182.py:1: DtypeWarning: Columns (48,49,64,65) have mixed types. Specify dtype option on import or set low_memory=False.\n",
      "  df_fin21 = pd.read_csv('../cra-data/2021 CRA Charities - Financial Data(in).csv', encoding='latin')\n"
     ]
    }
   ],
   "source": [
    "df_fin21 = pd.read_csv('../cra-data/2021 CRA Charities - Financial Data(in).csv', encoding='latin')\n",
    "df_fin21 = rename_columns_with_prefix(df_fin21, ['BN', '4050', '4155', '4610', '4700', '4850', '5100'], 'CRA21')\n",
    "df_matches_3 = pd.merge(\n",
    "    df_matches_2,\n",
    "    df_fin21,\n",
    "    on='CRA_BN_ID',\n",
    "    how='left'\n",
    ")"
   ]
  },
  {
   "cell_type": "markdown",
   "id": "fbc33b1f-0154-4c57-8d09-4c2ea33bac27",
   "metadata": {},
   "source": [
    "Add general information from 2011"
   ]
  },
  {
   "cell_type": "code",
   "execution_count": 6,
   "id": "05851377-9189-4397-922e-b71635e6540f",
   "metadata": {},
   "outputs": [
    {
     "name": "stderr",
     "output_type": "stream",
     "text": [
      "/tmp/ipykernel_3423735/2101371957.py:1: DtypeWarning: Columns (43,46) have mixed types. Specify dtype option on import or set low_memory=False.\n",
      "  df_gen11 = pd.read_csv('../cra-data/2011 CRA Charities - General Information(in).csv', encoding='latin')\n"
     ]
    }
   ],
   "source": [
    "df_gen11 = pd.read_csv('../cra-data/2011 CRA Charities - General Information(in).csv', encoding='latin')\n",
    "df_gen11 = rename_columns_with_prefix(df_gen11, ['BN', 'Program #1 Code', 'Program #1 %', 'Program #1 Desc      ', 'Program #2 Code', 'Program #2 %', 'Program #2 Desc      ', 'Program #3 Code', 'Program #3 %', 'Program #3 Desc      '], 'CRA11')\n",
    "df_matches_4 = pd.merge(\n",
    "    df_matches_3,\n",
    "    df_gen11,\n",
    "    on='CRA_BN_ID',\n",
    "    how='left'\n",
    ")"
   ]
  },
  {
   "cell_type": "markdown",
   "id": "8c3bb296-edd6-44d6-818e-3cf33698f996",
   "metadata": {},
   "source": [
    "Add general information from 2021"
   ]
  },
  {
   "cell_type": "code",
   "execution_count": 7,
   "id": "5d2cc428-24f7-4647-a7f7-ecbf138331d5",
   "metadata": {},
   "outputs": [
    {
     "name": "stderr",
     "output_type": "stream",
     "text": [
      "/tmp/ipykernel_3423735/1025522038.py:1: DtypeWarning: Columns (42,45,46,60) have mixed types. Specify dtype option on import or set low_memory=False.\n",
      "  df_gen21 = pd.read_csv('../cra-data/2021 CRA Charities - General Information(in).csv', encoding='latin')\n"
     ]
    }
   ],
   "source": [
    "df_gen21 = pd.read_csv('../cra-data/2021 CRA Charities - General Information(in).csv', encoding='latin')\n",
    "df_gen21 = rename_columns_with_prefix(df_gen21, ['BN', 'Program #1 Code', 'Program #1 %', 'Program #1 Desc', 'Program #2 Code', 'Program #2 %', 'Program #2 Desc', 'Program #3 Code', 'Program #3 %', 'Program #3 Desc'], 'CRA21')\n",
    "df_matches_5 = pd.merge(\n",
    "    df_matches_4,\n",
    "    df_gen21,\n",
    "    on='CRA_BN_ID',\n",
    "    how='left'\n",
    ")"
   ]
  },
  {
   "cell_type": "markdown",
   "id": "10cd3696-6bea-4c5c-917f-5f479c73ea6c",
   "metadata": {},
   "source": [
    "Save final results"
   ]
  },
  {
   "cell_type": "code",
   "execution_count": 10,
   "id": "b2f1363d-8275-4971-9aba-e337c91fcf04",
   "metadata": {},
   "outputs": [
    {
     "data": {
      "text/plain": [
       "CRA_BN_ID                 99.43\n",
       "CRA_Organization_Name     99.60\n",
       "CRA_Category              99.21\n",
       "CRA_SubCategory           99.21\n",
       "211_Organization_Name    100.00\n",
       "211_Location_Name        100.00\n",
       "211_Address               95.81\n",
       "211_City                 100.00\n",
       "211_Postal_Code           95.19\n",
       "X_Coordinate             100.00\n",
       "Y_Coordinate             100.00\n",
       "Match_Method             100.00\n",
       "Tenure                   100.00\n",
       "UW                       100.00\n",
       "Tenure_Public              1.59\n",
       "CRA11_4050                 2.96\n",
       "CRA11_4155                35.51\n",
       "CRA11_4610                29.60\n",
       "CRA11_4700                93.47\n",
       "CRA11_4850                83.15\n",
       "CRA11_5100                93.12\n",
       "CRA21_4050                 3.53\n",
       "CRA21_4155                43.63\n",
       "CRA21_4610                35.11\n",
       "CRA21_4700                98.24\n",
       "CRA21_4850                90.07\n",
       "CRA21_5100                97.44\n",
       "CRA11_Program #1 Code     87.65\n",
       "CRA11_Program #1 %        93.65\n",
       "CRA11_Program #1 Desc     86.90\n",
       "CRA11_Program #2 Code     55.18\n",
       "CRA11_Program #2 %        93.65\n",
       "CRA11_Program #2 Desc     54.83\n",
       "CRA11_Program #3 Code     38.02\n",
       "CRA11_Program #3 %        93.65\n",
       "CRA11_Program #3 Desc     37.94\n",
       "CRA21_Program #1 Code      7.72\n",
       "CRA21_Program #1 %         7.72\n",
       "CRA21_Program #1 Desc      0.04\n",
       "CRA21_Program #2 Code      6.88\n",
       "CRA21_Program #2 %         6.88\n",
       "CRA21_Program #2 Desc      0.62\n",
       "CRA21_Program #3 Code      5.65\n",
       "CRA21_Program #3 %         5.65\n",
       "CRA21_Program #3 Desc      0.66\n",
       "dtype: float64"
      ]
     },
     "execution_count": 10,
     "metadata": {},
     "output_type": "execute_result"
    }
   ],
   "source": [
    "full_percentage = 100 - ((df_matches_5.isna() | (df_matches_5.apply(lambda x: x == '' if x.dtype == 'object' else False))).sum() / len(df_matches_5) * 100).round(2)\n",
    "full_percentage"
   ]
  },
  {
   "cell_type": "code",
   "execution_count": 11,
   "id": "f5146bd4-2dfc-45e8-b2e0-cf3cf49cca14",
   "metadata": {},
   "outputs": [],
   "source": [
    "df_matches_5.to_csv('../joined-data/simplified_matches_uw_tenure_full_cra.csv', index=False)"
   ]
  }
 ],
 "metadata": {
  "kernelspec": {
   "display_name": "Python 3 (ipykernel)",
   "language": "python",
   "name": "python3"
  },
  "language_info": {
   "codemirror_mode": {
    "name": "ipython",
    "version": 3
   },
   "file_extension": ".py",
   "mimetype": "text/x-python",
   "name": "python",
   "nbconvert_exporter": "python",
   "pygments_lexer": "ipython3",
   "version": "3.12.5"
  }
 },
 "nbformat": 4,
 "nbformat_minor": 5
}
