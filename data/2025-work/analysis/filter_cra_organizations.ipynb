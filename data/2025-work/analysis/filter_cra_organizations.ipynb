{
 "cells": [
  {
   "cell_type": "code",
   "execution_count": 1,
   "id": "9fb2e3fb-d8a5-48f6-9d36-5fcf82771e38",
   "metadata": {},
   "outputs": [],
   "source": [
    "import pandas as pd\n",
    "import numpy as np"
   ]
  },
  {
   "cell_type": "markdown",
   "id": "fcc4a794-9679-4f89-8212-64f8bf973105",
   "metadata": {},
   "source": [
    "## Load in the data"
   ]
  },
  {
   "cell_type": "code",
   "execution_count": 19,
   "id": "b944a6be-d0df-44e7-95ae-c5feba82b609",
   "metadata": {},
   "outputs": [
    {
     "name": "stderr",
     "output_type": "stream",
     "text": [
      "/tmp/ipykernel_2568189/449121276.py:2: DtypeWarning: Columns (14,15,16,17) have mixed types. Specify dtype option on import or set low_memory=False.\n",
      "  df_cra21 = pd.read_csv('../cra-data/cra_2021_original.csv', encoding='latin')\n"
     ]
    }
   ],
   "source": [
    "# Load CRA-listed organizations in Ontario\n",
    "df_cra21 = pd.read_csv('../cra-data/cra_2021_original.csv', encoding='latin')\n",
    "df_cra21 = df_cra21[df_cra21[\"Province\"] == \"ON\"] \n",
    "df_cra21 = df_cra21.iloc[:, :12].reset_index(drop=True) # Remove black columns\n",
    "df_cra21[\"Full Address\"] = df_cra21[\"Address Line 1\"] + \",\" + df_cra21[\"City\"] + \",\" + df_cra21[\"Province\"].copy()"
   ]
  },
  {
   "cell_type": "markdown",
   "id": "4a82be49-a058-467d-92b6-c9b19c7b9118",
   "metadata": {},
   "source": [
    "## Filter for Toronto, York, and Peel"
   ]
  },
  {
   "cell_type": "code",
   "execution_count": 20,
   "id": "3e68f39e-5c44-4c96-bc8a-cc515ab3fee2",
   "metadata": {},
   "outputs": [],
   "source": [
    "# Define postal code prefixes for York and Peel\n",
    "york_postal_codes = [\n",
    "    \"L4M\", \"L4N\", \"L7B\", \"L4G\", \"L9N\", \"L3Y\", \"L3X\", \"L4E\", \"L4H\", \"L6A\", \n",
    "    \"L4C\", \"L4S\", \"L4B\", \"L6C\", \"L6E\", \"L4A\", \"L6B\", \"L4L\", \"L4K\", \"L4J\", \n",
    "    \"L3T\", \"L6G\", \"L3P\", \"L3R\", \"L3S\",\n",
    "]\n",
    "\n",
    "peel_postal_codes = [\n",
    "    \"L5N\", \"L5W\", \"L5T\", \"L5S\", \"L4T\", \"L5M\", \"L5V\", \"L5R\", \"L4Z\", \"L4W\", \n",
    "    \"L5P\", \"L4V\", \"L5L\", \"L5C\", \"L5B\", \"L5A\", \"L4Y\", \"L4X\", \"L5K\", \"L5H\", \n",
    "    \"L5G\", \"L5E\", \"L5J\", \"L0N\", \"L7K\", \"L7C\", \"L7E\", \"L4T\", \"L6P\", \"L6R\", \n",
    "    \"L6S\", \"L6T\", \"L6V\", \"L6W\", \"L6X\", \"L6Y\", \"L6Z\", \"L7A\", \"L7G\"\n",
    "]\n",
    "\n",
    "# Clean and extract the first 3 characters of the postal code\n",
    "df_cra21['Postal Code'] = df_cra21['Postal Code'].str.replace(' ', '')\n",
    "df_cra21['Postal Prefix'] = df_cra21['Postal Code'].str[:3]\n",
    "\n",
    "# Filter for Toronto (M), York, or Peel\n",
    "df_cra_gta = df_cra21[\n",
    "    (df_cra21['Postal Code'].str.startswith('M')) |  # Toronto\n",
    "    (df_cra21['Postal Prefix'].isin(york_postal_codes)) |  # York\n",
    "    (df_cra21['Postal Prefix'].isin(peel_postal_codes))  # Peel\n",
    "]\n",
    "\n",
    "# Drop the temporary Postal Prefix column and reset index\n",
    "df_cra_gta = df_cra_gta.drop(columns=['Postal Prefix'])\n",
    "df_cra_gta = df_cra_gta.reset_index(drop=True)"
   ]
  },
  {
   "cell_type": "markdown",
   "id": "3d3df2e7-27df-4ed8-98d1-3fbbea97e11a",
   "metadata": {},
   "source": [
    "## Filter for valid organization type codes"
   ]
  },
  {
   "cell_type": "code",
   "execution_count": 24,
   "id": "1ca83944-b241-4ce5-b5bb-a1cd46e58a9d",
   "metadata": {},
   "outputs": [],
   "source": [
    "df_categories = pd.read_excel(\"../cra-data/Organization_Type.xlsx\", sheet_name=\"Categories-for-Filter\")"
   ]
  },
  {
   "cell_type": "code",
   "execution_count": 33,
   "id": "432efbb5-12ca-4022-abe7-566ee9a8dda8",
   "metadata": {},
   "outputs": [],
   "source": [
    "# Perform an inner join on Category and Sub Category columns\n",
    "df_cra_cat = pd.merge(\n",
    "    df_cra_gta,\n",
    "    df_categories[['Category Code', 'Sub-Category Code']],  # We only need these columns for matching\n",
    "    left_on=['Category', 'Sub Category'],\n",
    "    right_on=['Category Code', 'Sub-Category Code'],\n",
    "    how='inner'  # Consider \"right\"?\n",
    ")\n",
    "\n",
    "# Drop the duplicate columns from df_categories if they were included\n",
    "df_cra_cat = df_cra_cat.drop(columns=['Category Code', 'Sub-Category Code'], errors='ignore')\n",
    "\n",
    "# Reset index if desired\n",
    "df_cra_cat = df_cra_cat.reset_index(drop=True)"
   ]
  },
  {
   "cell_type": "markdown",
   "id": "f1896a8c-6ca0-4ee6-9193-792cc06ac7e8",
   "metadata": {},
   "source": [
    "## Add financial information codes"
   ]
  },
  {
   "cell_type": "code",
   "execution_count": 37,
   "id": "8d5a425d-ee5d-4044-b48b-15a46a435140",
   "metadata": {},
   "outputs": [
    {
     "name": "stderr",
     "output_type": "stream",
     "text": [
      "/tmp/ipykernel_2568189/940562496.py:1: DtypeWarning: Columns (48,49,64,65) have mixed types. Specify dtype option on import or set low_memory=False.\n",
      "  df_financial = pd.read_csv(\"../cra-data/financial_d_and_schedule_6_2021.csv\", encoding='latin-1')\n"
     ]
    }
   ],
   "source": [
    "df_financial = pd.read_csv(\"../cra-data/financial_d_and_schedule_6_2021.csv\", encoding='latin-1')\n",
    "df_financial = df_financial[[\"BN\", \"4050\", \"4155\", \"4850\"]]"
   ]
  },
  {
   "cell_type": "code",
   "execution_count": 40,
   "id": "c9dec6a0-06d8-4988-92ff-df14e596e947",
   "metadata": {},
   "outputs": [],
   "source": [
    "df_cra_fin = df_cra_cat.join(\n",
    "    df_financial.set_index(\"BN\"), \n",
    "    on=\"BN\", \n",
    "    how=\"left\"\n",
    ").reset_index(drop=True)"
   ]
  },
  {
   "cell_type": "code",
   "execution_count": 42,
   "id": "be63a440-38c5-4803-8454-7d9c5767c678",
   "metadata": {},
   "outputs": [],
   "source": [
    "df_cra_fin.to_csv(\"../cra-data/cra_2021_combined_filtered.csv\", index=False)"
   ]
  }
 ],
 "metadata": {
  "kernelspec": {
   "display_name": "Python 3 (ipykernel)",
   "language": "python",
   "name": "python3"
  },
  "language_info": {
   "codemirror_mode": {
    "name": "ipython",
    "version": 3
   },
   "file_extension": ".py",
   "mimetype": "text/x-python",
   "name": "python",
   "nbconvert_exporter": "python",
   "pygments_lexer": "ipython3",
   "version": "3.12.5"
  }
 },
 "nbformat": 4,
 "nbformat_minor": 5
}
