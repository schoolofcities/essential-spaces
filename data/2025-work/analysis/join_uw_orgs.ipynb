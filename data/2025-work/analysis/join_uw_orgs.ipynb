{
 "cells": [
  {
   "cell_type": "code",
   "execution_count": 1,
   "id": "00266d14-719e-4f62-b0be-2a40d53b0fa7",
   "metadata": {},
   "outputs": [],
   "source": [
    "import pandas as pd\n",
    "import geopandas as gpd\n",
    "import numpy as np"
   ]
  },
  {
   "cell_type": "code",
   "execution_count": 6,
   "id": "54cd8760-d2d0-4d23-87fd-32058c28a0a5",
   "metadata": {},
   "outputs": [],
   "source": [
    "# gpd.read_file('../211-data/SPRE_2021_211cra_join_with_tenure.geo.json')"
   ]
  },
  {
   "cell_type": "code",
   "execution_count": 8,
   "id": "e620fcda-2540-4fa9-b386-77bb27f8f68b",
   "metadata": {},
   "outputs": [
    {
     "name": "stdout",
     "output_type": "stream",
     "text": [
      "Total UW orgs: 278\n",
      "Total UW orgs (with CRA BN ID): 261\n",
      "No. UW orgs with 211/CRA data: 171\n"
     ]
    }
   ],
   "source": [
    "df_orgs = pd.read_csv('../joined-data/simplified_matches.csv')\n",
    "\n",
    "df_uw = pd.read_excel('../cra-data/cre-uw-checking 2.xlsx', sheet_name=\"UW Orgs\")\n",
    "df_uw = df_uw.rename(columns={'CHARITABLE REGISTRATION NUMBER (BN)': 'CRA_BN_ID'})\n",
    "\n",
    "print(f'Total UW orgs: {len(df_uw)}')\n",
    "\n",
    "df_uw = df_uw[df_uw['CRA_BN_ID'].notna()]\n",
    "\n",
    "print(f'Total UW orgs (with CRA BN ID): {len(df_uw)}')\n",
    "\n",
    "num_uw_matches = len(set(df_uw['CRA_BN_ID']).intersection(set(df_orgs['CRA_BN_ID'])))\n",
    "print(f'No. UW orgs with 211/CRA data: {num_uw_matches}')"
   ]
  },
  {
   "cell_type": "code",
   "execution_count": 17,
   "id": "a8e488a5-9dfb-432f-9e7b-7c9032eeb1c9",
   "metadata": {},
   "outputs": [],
   "source": [
    "df_uw_cra211 = pd.merge(\n",
    "    left = df_uw,\n",
    "    right = df_orgs,\n",
    "    on = 'CRA_BN_ID',\n",
    "    how = 'left'\n",
    ")\n",
    "df_uw_cra211.to_csv('../joined-data/uw_cra211.csv', index=False)"
   ]
  }
 ],
 "metadata": {
  "kernelspec": {
   "display_name": "Python 3 (ipykernel)",
   "language": "python",
   "name": "python3"
  },
  "language_info": {
   "codemirror_mode": {
    "name": "ipython",
    "version": 3
   },
   "file_extension": ".py",
   "mimetype": "text/x-python",
   "name": "python",
   "nbconvert_exporter": "python",
   "pygments_lexer": "ipython3",
   "version": "3.12.5"
  }
 },
 "nbformat": 4,
 "nbformat_minor": 5
}
