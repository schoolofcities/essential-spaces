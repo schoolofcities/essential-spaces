{
 "cells": [
  {
   "cell_type": "code",
   "execution_count": 1,
   "id": "00266d14-719e-4f62-b0be-2a40d53b0fa7",
   "metadata": {},
   "outputs": [],
   "source": [
    "import pandas as pd\n",
    "import geopandas as gpd\n",
    "import numpy as np\n",
    "\n",
    "import unicodedata\n",
    "import re"
   ]
  },
  {
   "cell_type": "markdown",
   "id": "481fc05a-8ffa-4495-89fd-57556deec1c9",
   "metadata": {},
   "source": [
    "## Join together UW orgs with the CRA/211 data"
   ]
  },
  {
   "cell_type": "markdown",
   "id": "8c0e1526-04ad-4ef9-9ea8-e9766dafcc84",
   "metadata": {},
   "source": [
    "Find missing UW orgs from 2025"
   ]
  },
  {
   "cell_type": "code",
   "execution_count": 42,
   "id": "bb1f1975-2f41-4c12-b1d8-1e350433e5d4",
   "metadata": {},
   "outputs": [],
   "source": [
    "# Clean text functions\n",
    "def clean_text(text):\n",
    "    if pd.isna(text):\n",
    "        return ''\n",
    "    \n",
    "    text = unicodedata.normalize('NFKD', str(text)).encode('ascii', 'ignore').decode('ascii')\n",
    "    text = re.sub(r'/.*$', '', text)\n",
    "    text = re.sub(r'\\(.*?\\)', '', text)\n",
    "    text = re.sub(r'\\b(the|inc|incorporated|llc|corp|corporation|co|company)\\b', '', text, flags=re.IGNORECASE)\n",
    "    text = re.sub(r'[^a-zA-Z0-9]', '', text).lower()\n",
    "    \n",
    "    return text.strip()\n",
    "\n",
    "def clean_text_with_spaces(text):\n",
    "    if pd.isna(text):\n",
    "        return ''\n",
    "    \n",
    "    text = unicodedata.normalize('NFKD', str(text)).encode('ascii', 'ignore').decode('ascii')\n",
    "    text = re.sub(r'/.*$', '', text)\n",
    "    text = re.sub(r'\\(.*?\\)', '', text)\n",
    "    text = re.sub(r'\\b(the|inc|incorporated|llc|corp|corporation|co|company)\\b', '', text, flags=re.IGNORECASE)\n",
    "    text = re.sub(r'[^a-zA-Z0-9 ]', '', text).lower()\n",
    "    \n",
    "    text = re.sub(r' +', ' ', text).strip()\n",
    "    \n",
    "    return text\n",
    "\n",
    "# Load the dataframes\n",
    "# df_uw_cra211 = pd.read_csv('../joined-data/uw_cra211.csv', encoding='latin')\n",
    "df_uw_cra211 = pd.read_excel('../uw-data/cre-uw-checking 2.xlsx', sheet_name=\"UW Orgs\")\n",
    "df_uw3 = pd.read_csv('../uw-data/2024-25 Program Locations for Mapping(Sheet2).csv', encoding='latin')\n",
    "\n",
    "# Create dummy columns for comparison (without spaces)\n",
    "df_uw_cra211['dummy'] = df_uw_cra211['Funded Agency - CRA Name'].apply(clean_text)\n",
    "df_uw3['dummy'] = df_uw3['Organization Name: | Legal Name'].apply(clean_text)\n",
    "df_uw3['dummy_space'] = df_uw3['Organization Name: | Legal Name'].apply(clean_text_with_spaces)\n",
    "\n",
    "# Get unique organization names from df_uw3\n",
    "uw3_orgs = df_uw3['Organization Name: | Legal Name'].unique()\n",
    "uw3_dummies = df_uw3['dummy'].unique()\n",
    "uw3_dummies_space = df_uw3['dummy_space'].unique()\n",
    "\n",
    "# Find which organizations don't have matches in df_uw_cra211\n",
    "missing_orgs = []\n",
    "for dummy_space, dummy in zip(uw3_dummies_space, uw3_dummies):\n",
    "    if dummy not in df_uw_cra211['dummy'].values:\n",
    "        # Get the clean version with spaces for reporting\n",
    "        missing_orgs.append(dummy_space)\n",
    "\n",
    "# Report the results\n",
    "# if len(missing_orgs) > 0:\n",
    "#     print(\"Organizations in df_uw3 that don't have matches in df_uw_cra211:\")\n",
    "#     for i, org in enumerate(missing_orgs, 1):\n",
    "#         print(f\"{i}. {org}\")\n",
    "# else:\n",
    "#     print(\"All organizations in df_uw3 have matches in df_uw_cra211\")\n",
    "\n",
    "df_uw_missing = df_uw3[df_uw3['dummy_space'].isin(missing_orgs)][['Organization Name: | Legal Name', 'Organization Name: | Operating/Public Name']].drop_duplicates()\n",
    "df_uw_missing.to_csv('../uw-data/2025-uw-missing.csv', index=False)"
   ]
  },
  {
   "cell_type": "markdown",
   "id": "86edc7ca-43f2-45e3-b97a-63025d50b649",
   "metadata": {},
   "source": [
    "### Join together all UW data"
   ]
  },
  {
   "cell_type": "code",
   "execution_count": 2,
   "id": "e620fcda-2540-4fa9-b386-77bb27f8f68b",
   "metadata": {},
   "outputs": [],
   "source": [
    "df_matched_orgs = pd.read_csv('../joined-data/simplified_matches.csv')\n",
    "df_matched_orgs = df_matched_orgs.drop(columns=['CRA_Category', 'CRA_SubCategory'])\n",
    "\n",
    "df_uw = pd.read_excel('../uw-data/cre-uw-checking 2.xlsx', sheet_name=\"UW Orgs\")\n",
    "df_uw = df_uw.rename(columns={'CHARITABLE REGISTRATION NUMBER (BN)': 'CRA_BN_ID'})"
   ]
  },
  {
   "cell_type": "code",
   "execution_count": 3,
   "id": "721f0a26-1358-4b65-a1db-4790a7b4d740",
   "metadata": {},
   "outputs": [],
   "source": [
    "df_manual_uw_map = pd.read_csv('../uw-data/manual_matches_uw.csv')\n",
    "\n",
    "# Load 211 data, select columns only relevant to simplified form, and rename them\n",
    "df_211 = pd.read_csv(\"../211-data/2021_211_PeelYorkTO.csv\", encoding='latin-1')\n",
    "df_211 = df_211.drop(columns=[\"TaxonomyTerms\", \"Address2\", \"County\", \"Province\"])\n",
    "df_211 = df_211.rename(columns={\n",
    "    \"PublicName\": \"211_PublicName\",\n",
    "    \"ParentAgency\": \"211_Name\",\n",
    "    \"Address1\":\"211_Address1\",\n",
    "    \"City\":\"211_City\",\n",
    "    \"PostalCode\":\"211_PostalCode\",\n",
    "    \"Latitude\": \"211_Latitude\",\n",
    "    \"Longitude\": \"211_Longitude\",\n",
    "}).rename(columns={\n",
    "    '211_Name': '211_Organization_Name',\n",
    "    '211_PublicName': '211_Location_Name',\n",
    "    '211_Address1': '211_Address',\n",
    "    '211_City': '211_City',\n",
    "    '211_PostalCode': '211_Postal_Code',\n",
    "    '211_Longitude': 'X_Coordinate',\n",
    "    '211_Latitude': 'Y_Coordinate'\n",
    "})\n",
    "df_211 = df_211.apply(lambda x: x.str.replace(';', ' - ') if x.dtype == 'object' else x)"
   ]
  },
  {
   "cell_type": "markdown",
   "id": "46448811-0fc9-49fe-9379-7becbe3a4290",
   "metadata": {},
   "source": [
    "Join together manual matches "
   ]
  },
  {
   "cell_type": "code",
   "execution_count": 5,
   "id": "5f11f6bb-04c2-40f0-9416-b178bd5572c6",
   "metadata": {},
   "outputs": [],
   "source": [
    "df_manual_orgs = pd.merge(\n",
    "    left = df_manual_uw_map,\n",
    "    right = df_211,\n",
    "    on = '211_Organization_Name',\n",
    "    how = 'left'\n",
    ")\n",
    "df_manual_orgs['Match_Method'] = 'Manual UW'"
   ]
  },
  {
   "cell_type": "code",
   "execution_count": 11,
   "id": "2bef3fee-3a0b-41e0-b0a1-6b3efe10336c",
   "metadata": {},
   "outputs": [],
   "source": [
    "df_uw_cra211_manual = pd.merge(\n",
    "    left = df_uw,\n",
    "    right = df_manual_orgs,\n",
    "    on = 'Funded Agency - CRA Name',\n",
    "    how = 'inner'  # Identify only these manual matches\n",
    ")"
   ]
  },
  {
   "cell_type": "markdown",
   "id": "3e0d58ea-8662-4d46-8ded-6b2ae00e618b",
   "metadata": {},
   "source": [
    "For other organizations, use the CRA ID"
   ]
  },
  {
   "cell_type": "code",
   "execution_count": 13,
   "id": "fa6934ed-2064-4399-940b-d8495a0c6fa0",
   "metadata": {},
   "outputs": [],
   "source": [
    "df_uw2 = df_uw[~df_uw['Funded Agency - CRA Name'].isin(df_uw_cra211_manual['Funded Agency - CRA Name'])]\n",
    "df_uw_cra211_bnid = pd.merge(\n",
    "    left = df_uw2,\n",
    "    right = df_matched_orgs,\n",
    "    on = 'CRA_BN_ID',\n",
    "    how = 'left'\n",
    ")"
   ]
  },
  {
   "cell_type": "markdown",
   "id": "4f5aebfd-e240-4924-961f-29cf076932c4",
   "metadata": {},
   "source": [
    "Incorporate the August 2025 version of UW organizations (REDUNDANT)"
   ]
  },
  {
   "cell_type": "code",
   "execution_count": 43,
   "id": "80696a49-ebdf-4d6a-9187-691bcae6b5bd",
   "metadata": {},
   "outputs": [],
   "source": [
    "# df_uw25_map = pd.read_csv('../uw-data/2025-uw-missing-matches.csv').dropna().drop(columns=['UW 2025'])\n",
    "# df_uw25_map = df_uw25_map[~df_uw25_map['Funded Agency - CRA Name'].isin(df_uw['Funded Agency - CRA Name'])]\n",
    "# df_uw25_map[['CRA_BN_ID', 'Category', 'Sub Category', 'City', 'Reason', 'Region']] = np.nan\n",
    "\n",
    "# df_uw25_manual = pd.merge(\n",
    "#     left = df_uw25_map,\n",
    "#     right = df_211,\n",
    "#     on = '211_Organization_Name',\n",
    "#     how = 'left'\n",
    "# )\n",
    "# df_uw25_manual['Match_Method'] = 'Manual UW 25'"
   ]
  },
  {
   "cell_type": "markdown",
   "id": "e83e07cf-0b52-427e-9107-ef2553310420",
   "metadata": {},
   "source": [
    "Concat"
   ]
  },
  {
   "cell_type": "code",
   "execution_count": 44,
   "id": "37d2c5bc-e633-49c0-97c9-6a89ccb80e99",
   "metadata": {},
   "outputs": [],
   "source": [
    "df_uw_cra211 = pd.concat([df_uw_cra211_manual, df_uw_cra211_bnid])\n",
    "df_uw_cra211 = df_uw_cra211.sort_values(by='CRA_Organization_Name')\n",
    "df_uw_cra211.to_csv('../joined-data/uw_cra211.csv', index=False)"
   ]
  },
  {
   "cell_type": "code",
   "execution_count": 19,
   "id": "d0930648-5815-405e-9883-81600b49d763",
   "metadata": {},
   "outputs": [
    {
     "data": {
      "text/plain": [
       "Index(['Funded Agency - CRA Name', 'CRA_BN_ID', 'Category', 'Sub Category',\n",
       "       'City', 'Reason', 'Region', 'CRA_Organization_Name',\n",
       "       '211_Organization_Name', '211_Location_Name', '211_Address', '211_City',\n",
       "       '211_Postal_Code', 'Y_Coordinate', 'X_Coordinate', 'Match_Method'],\n",
       "      dtype='object')"
      ]
     },
     "execution_count": 19,
     "metadata": {},
     "output_type": "execute_result"
    }
   ],
   "source": [
    "df_uw_cra211.columns"
   ]
  },
  {
   "cell_type": "code",
   "execution_count": 18,
   "id": "460585b1-dbcc-4e73-aaef-83f9a8b2f9d9",
   "metadata": {},
   "outputs": [
    {
     "name": "stdout",
     "output_type": "stream",
     "text": [
      "Total UW orgs: 278\n",
      "No. UW orgs with 211/CRA data: 226\n"
     ]
    }
   ],
   "source": [
    "print(f'Total UW orgs: {len(df_uw)}')\n",
    "\n",
    "num_uw_matches = df_uw_cra211['CRA_Organization_Name'].nunique()\n",
    "print(f'No. UW orgs with 211/CRA data: {num_uw_matches}')"
   ]
  },
  {
   "cell_type": "markdown",
   "id": "4d502e86-a760-478f-801e-0ca4582869eb",
   "metadata": {},
   "source": [
    "## Join tenure data"
   ]
  },
  {
   "cell_type": "code",
   "execution_count": 9,
   "id": "49e89e84-6d96-4dcb-84c7-61f3f4eb2f33",
   "metadata": {},
   "outputs": [],
   "source": [
    "df_tenure_by_cra = pd.read_excel('../../2024-work/SPRE_data/2021_CRE_DATA_Oct9.xlsx')\n",
    "df_tenure_by_cra = df_tenure_by_cra.drop_duplicates()\n",
    "# ['CRA_BN', 'CRA_LegalName', '211 Parent Agency Name', '211_Address1', '211_PostalCode', 'Tenure', 'Latitude', 'Longitude']\n",
    "df_tenure_by_cra = df_tenure_by_cra[['CRA_BN', 'Latitude', 'Longitude', 'Tenure']].rename(\n",
    "    columns={\n",
    "        'CRA_BN': 'CRA_BN_ID',\n",
    "        # 'CRA_LegalName': 'CRA_Organization_Name',\n",
    "        # '211 Parent Agency Name': '211_Organization_Name',\n",
    "        # '211_Address1': '211_Address',\n",
    "        # '211_PostalCode': '211_Postal_Code',\n",
    "        'Latitude': 'Y_Coordinate',\n",
    "        'Longitude': 'X_Coordinate',\n",
    "    }\n",
    ")\n",
    "\n",
    "# df_tenure_by_cra"
   ]
  },
  {
   "cell_type": "code",
   "execution_count": 10,
   "id": "64ea1a24-225d-454e-bf31-05b7a3bb0cd2",
   "metadata": {},
   "outputs": [
    {
     "name": "stdout",
     "output_type": "stream",
     "text": [
      "Number of locations with tenure data: 430\n",
      "...which is 43.57% of all locations\n",
      "...so 557 locations are missing tenure data\n",
      "...as there are 987 locations in total\n"
     ]
    }
   ],
   "source": [
    "df_uw_cra211_tenure = pd.merge(\n",
    "    left = df_uw_cra211,\n",
    "    right = df_tenure_by_cra,\n",
    "    on = ['CRA_BN_ID', 'Y_Coordinate', 'X_Coordinate'],\n",
    "    how = 'left'\n",
    ")\n",
    "df_uw_cra211_tenure.to_csv('../joined-data/uw_cra211_tenure.csv', index=False)\n",
    "\n",
    "num_tenure = df_uw_cra211_tenure['Tenure'].count()\n",
    "num_locs = len(df_uw_cra211_tenure)\n",
    "pct_tenure = round(num_tenure / num_locs, 4) * 100\n",
    "print(f'Number of locations with tenure data: {num_tenure}')\n",
    "print(f'...which is {pct_tenure}% of all locations')\n",
    "print(f'...so {num_locs - num_tenure} locations are missing tenure data')\n",
    "print(f'...as there are {num_locs} locations in total')"
   ]
  },
  {
   "cell_type": "markdown",
   "id": "a30840b8-38b5-4035-a879-e695251b8461",
   "metadata": {},
   "source": [
    "## Join tenure data to simplified_matches and extend it"
   ]
  },
  {
   "cell_type": "code",
   "execution_count": 11,
   "id": "bf155558-3c3b-4a6f-897a-410097027e87",
   "metadata": {},
   "outputs": [
    {
     "name": "stdout",
     "output_type": "stream",
     "text": [
      "Number of all locations with tenure data: 1042\n",
      "...which is 46.29% of all locations\n",
      "...so 1209 locations are missing tenure data\n",
      "...as there are 2251 locations in total\n"
     ]
    }
   ],
   "source": [
    "df_matched_orgs = pd.read_csv('../joined-data/simplified_matches.csv')\n",
    "\n",
    "# Add the UW-only CRA organizations\n",
    "df_matched_extended = pd.concat([\n",
    "    df_matched_orgs,\n",
    "    df_uw_cra211_manual.drop(columns=['Funded Agency - CRA Name', 'City', 'Reason', 'Region']).rename(columns={'Category': 'CRA_Category', 'Sub Category': 'CRA_SubCategory'})\n",
    "]).sort_values(by='CRA_Organization_Name')\n",
    "\n",
    "# Add tenure information\n",
    "df_matched_extended = pd.merge(\n",
    "    left = df_matched_extended,\n",
    "    right = df_tenure_by_cra,\n",
    "    on = ['CRA_BN_ID', 'Y_Coordinate', 'X_Coordinate'],\n",
    "    how = 'left'\n",
    ")\n",
    "\n",
    "# Specify with an organization is UW or not\n",
    "df_matched_extended['UW'] = df_matched_extended['CRA_Organization_Name'].isin(df_uw_cra211_tenure['CRA_Organization_Name'])\n",
    "\n",
    "df_matched_extended.to_csv('../joined-data/simplified_matches_uw_tenure.csv', index=False)\n",
    "\n",
    "num_tenure = df_matched_extended['Tenure'].count()\n",
    "num_locs = len(df_matched_extended)\n",
    "pct_tenure = round(num_tenure / num_locs, 4) * 100\n",
    "print(f'Number of all locations with tenure data: {num_tenure}')\n",
    "print(f'...which is {pct_tenure}% of all locations')\n",
    "print(f'...so {num_locs - num_tenure} locations are missing tenure data')\n",
    "print(f'...as there are {num_locs} locations in total')"
   ]
  },
  {
   "cell_type": "code",
   "execution_count": 23,
   "id": "81d1fe90-004b-48a7-ac1a-992b3c317ef6",
   "metadata": {},
   "outputs": [
    {
     "name": "stdout",
     "output_type": "stream",
     "text": [
      "211_City\n",
      "Toronto                   772\n",
      "Mississauga                45\n",
      "Brampton                   37\n",
      "Newmarket                  25\n",
      "Markham                    24\n",
      "Richmond Hill              24\n",
      "Vaughan                    17\n",
      "Aurora                     17\n",
      "Georgina                    5\n",
      "Whitchurch-Stouffville      2\n",
      "King                        2\n",
      "East Gwillimbury            2\n",
      "Caledon                     1\n",
      "Name: count, dtype: int64\n"
     ]
    }
   ],
   "source": [
    "df_matched_extended = pd.read_csv('../joined-data/simplified_matches_uw_tenure.csv')\n",
    "\n",
    "# Filter to only rows with no Tenure\n",
    "df_matched_extended_nt = df_matched_extended[df_matched_extended['Tenure'].isna()]\n",
    "\n",
    "# Count occurrences\n",
    "name_counts = df_matched_extended_nt['211_Organization_Name'].value_counts()\n",
    "\n",
    "# Split into duplicates and uniques\n",
    "df_dupes = df_matched_extended_nt[df_matched_extended_nt['211_Organization_Name'].isin(name_counts[name_counts > 1].index)]\n",
    "df_uniques = df_matched_extended_nt[df_matched_extended_nt['211_Organization_Name'].isin(name_counts[name_counts == 1].index)]\n",
    "\n",
    "# Save the version with only repeated orgs\n",
    "df_dupes.sort_values(by='211_City').to_csv('../joined-data/simplified_matches_uw_no_tenure.csv', index=False)\n",
    "\n",
    "# Save the version with only unique orgs (if needed)\n",
    "df_uniques.sort_values(by='211_City').to_csv('../joined-data/simplified_matches_uw_no_tenure_uniques_only.csv', index=False)\n",
    "\n",
    "# Optionally, view counts\n",
    "print(df_dupes['211_City'].value_counts())"
   ]
  },
  {
   "cell_type": "markdown",
   "id": "af20ee76-9690-45d5-94af-2caf50a79f7c",
   "metadata": {},
   "source": [
    "## Join manually retrieved tenure data"
   ]
  },
  {
   "cell_type": "markdown",
   "id": "095f5563-7e1f-41e2-b9a1-26907046c886",
   "metadata": {},
   "source": [
    "Merge in Toronto data"
   ]
  },
  {
   "cell_type": "code",
   "execution_count": 2,
   "id": "cd687b0c-0977-4802-81a8-d0ffb880b1d4",
   "metadata": {},
   "outputs": [],
   "source": [
    "df_matches_all = pd.read_csv('../joined-data/simplified_matches_uw_tenure.csv')\n",
    "df_tenure_to = pd.read_csv('../tenure-data/Non-Profit UW Tenure Toronto - Sheet1.csv')"
   ]
  },
  {
   "cell_type": "code",
   "execution_count": 3,
   "id": "0b18f9d8-1e10-47fa-b8f5-eddbaa4a8e99",
   "metadata": {},
   "outputs": [],
   "source": [
    "merge_cols = ['CRA_Organization_Name', '211_Organization_Name', '211_Location_Name', '211_Address', '211_Postal_Code', 'X_Coordinate', 'Y_Coordinate']\n",
    "\n",
    "# Merge tenure info from df_tenure_to into df_matches_all\n",
    "df_merged = pd.merge(\n",
    "    df_matches_all,\n",
    "    df_tenure_to[merge_cols + ['Tenure (Rent or Own or Unknown)']],\n",
    "    on=merge_cols,\n",
    "    how='left'\n",
    ")\n",
    "\n",
    "# Create new column 'Tenure_Public' initialized as empty string\n",
    "df_merged['Tenure_Public'] = ''\n",
    "\n",
    "# Function to update tenure values\n",
    "def update_tenure(row):\n",
    "    current_tenure = row['Tenure'] \n",
    "    new_tenure_info = row['Tenure (Rent or Own or Unknown)']\n",
    "    \n",
    "    # Only update if current tenure is 'Unknown' or 'Empty'\n",
    "    if current_tenure == 'Unknown' or pd.isna(current_tenure):\n",
    "        if pd.isna(new_tenure_info):\n",
    "            return row['Tenure'], ''\n",
    "        elif str(new_tenure_info).startswith('City of '):\n",
    "            return 'Rent', new_tenure_info\n",
    "        else:\n",
    "            return new_tenure_info, ''\n",
    "    else:\n",
    "        return row['Tenure'], ''\n",
    "\n",
    "# Apply function to update Tenure and Tenure_Public columns\n",
    "df_merged[['Tenure', 'Tenure_Public']] = df_merged.apply(update_tenure, axis=1, result_type='expand')\n",
    "\n",
    "# Drop helper column from df_tenure_to\n",
    "df_matches_all_updated = df_merged.drop(columns=['Tenure (Rent or Own or Unknown)'])"
   ]
  },
  {
   "cell_type": "markdown",
   "id": "915f3525-3f9e-4092-9bf1-7d26906b50b3",
   "metadata": {},
   "source": [
    "Merge in non-Toronto GTA data"
   ]
  },
  {
   "cell_type": "code",
   "execution_count": 4,
   "id": "358376b3-842a-4343-8637-a4bc38d63c4a",
   "metadata": {},
   "outputs": [],
   "source": [
    "df_tenure_gta = pd.read_csv('../tenure-data/2021_Joinedv2_short - Copy(CRE2021).csv')"
   ]
  },
  {
   "cell_type": "code",
   "execution_count": 5,
   "id": "79a35c9b-6820-4ee2-bbcd-3572fe6cba44",
   "metadata": {},
   "outputs": [],
   "source": [
    "# Ensure the column is named 'Tenure_GTA' (skip renaming again if already done)\n",
    "# If it’s not renamed yet, you can uncomment the next line:\n",
    "df_tenure_gta = df_tenure_gta.rename(columns={'Tenure': 'Tenure_GTA'})\n",
    "\n",
    "# Clean up df_tenure_gta['Tenure_GTA']: replace non 'Rent', 'Own', 'Unknown' with 'Unknown'\n",
    "df_tenure_gta['Tenure_GTA'] = df_tenure_gta['Tenure_GTA'].str.strip()\n",
    "df_tenure_gta['Tenure_GTA'] = df_tenure_gta['Tenure_GTA'].where(df_tenure_gta['Tenure_GTA'].isin(['Rent', 'Own', 'Unknown']), 'Unknown')\n",
    "\n",
    "merge_cols = ['CRA_Organization_Name', '211_Organization_Name', '211_Location_Name', '211_Address', '211_Postal_Code', 'X_Coordinate', 'Y_Coordinate']\n",
    "\n",
    "# Group by merge columns and resolve conflicts\n",
    "def resolve_tenure(series):\n",
    "    unique_tenures = series.dropna().unique()\n",
    "    if len(unique_tenures) == 1:\n",
    "        return unique_tenures[0]\n",
    "    else:\n",
    "        return 'Unknown'\n",
    "\n",
    "df_tenure_gta_agg = df_tenure_gta.groupby(merge_cols)['Tenure_GTA'].apply(resolve_tenure).reset_index()\n",
    "\n",
    "# Merge the resolved GTA tenure info into df_matches_all_updated\n",
    "df_merged_gta = pd.merge(\n",
    "    df_matches_all_updated,\n",
    "    df_tenure_gta_agg,\n",
    "    on=merge_cols,\n",
    "    how='left'\n",
    ")\n",
    "\n",
    "# Update 'Tenure' where it is 'Unknown' or NaN, using 'Tenure_GTA' if available\n",
    "def update_tenure_gta(row):\n",
    "    current_tenure = str(row['Tenure']).strip().lower()\n",
    "    gta_tenure = row['Tenure_GTA']\n",
    "    \n",
    "    if current_tenure == 'unknown' or pd.isna(row['Tenure']):\n",
    "        if pd.notna(gta_tenure) and gta_tenure != 'Unknown':\n",
    "            return gta_tenure\n",
    "    return row['Tenure']\n",
    "\n",
    "df_merged_gta['Tenure'] = df_merged_gta.apply(update_tenure_gta, axis=1)\n",
    "\n",
    "# Drop helper column\n",
    "df_matches_all_final = df_merged_gta.drop(columns=['Tenure_GTA'])"
   ]
  },
  {
   "cell_type": "markdown",
   "id": "2640b4b9-ef87-4410-9c7f-dd667b8d8780",
   "metadata": {},
   "source": [
    "Set single property values to 'Own' if we detect a property value"
   ]
  },
  {
   "cell_type": "code",
   "execution_count": 6,
   "id": "ebf8fe81-1a9c-4f97-b5ec-505a78cd671f",
   "metadata": {},
   "outputs": [
    {
     "data": {
      "text/plain": [
       "Index(['CRA_BN_ID', 'CRA_Organization_Name', 'CRA_Category', 'CRA_SubCategory',\n",
       "       '211_Organization_Name', '211_Location_Name', '211_Address', '211_City',\n",
       "       '211_Postal_Code', 'X_Coordinate', 'Y_Coordinate', 'Match_Method',\n",
       "       'Tenure', 'UW', 'Tenure_Public'],\n",
       "      dtype='object')"
      ]
     },
     "execution_count": 6,
     "metadata": {},
     "output_type": "execute_result"
    }
   ],
   "source": [
    "df_matches_all_final.columns"
   ]
  },
  {
   "cell_type": "code",
   "execution_count": 7,
   "id": "f9b85e24-50aa-4342-836b-01543ad7c072",
   "metadata": {},
   "outputs": [
    {
     "data": {
      "text/plain": [
       "Index(['CRA_BN_ID', 'CRA_Organization_Name', '211_Organization_Name',\n",
       "       '211_Location_Name', '211_Address', '211_Postal_Code', 'X_Coordinate',\n",
       "       'Y_Coordinate', 'Match_Method', 'Tenure', 'UW',\n",
       "       'Land_or_Bldg_owned_4050', 'land_bldg_4155'],\n",
       "      dtype='object')"
      ]
     },
     "execution_count": 7,
     "metadata": {},
     "output_type": "execute_result"
    }
   ],
   "source": [
    "df_land_status = pd.read_csv('../tenure-data/2021_Joinedv2(CRE2021).csv', encoding='latin')\n",
    "df_land_status = df_land_status[[\n",
    "    'CRA_BN_ID', 'CRA_Organi', 'F211_Organ', 'F211_Locat', 'F211_Addre',\n",
    "    'F211_Posta', 'X_Coordina', 'Y_Coordina', 'Match_Meth', 'Tenure', 'UW', \n",
    "    'Land_or_Bldg_owned_4050', 'land_bldg_4155',\n",
    "]].rename(columns={\n",
    "    'CRA_Organi': 'CRA_Organization_Name',\n",
    "    'F211_Organ': '211_Organization_Name',\n",
    "    'F211_Locat': '211_Location_Name', \n",
    "    'F211_Addre': '211_Address',\n",
    "    'F211_Posta': '211_Postal_Code',\n",
    "    'X_Coordina': 'X_Coordinate',\n",
    "    'Y_Coordina': 'Y_Coordinate',\n",
    "    'Match_Meth': 'Match_Method',\n",
    "})\n",
    "df_land_status.columns"
   ]
  },
  {
   "cell_type": "code",
   "execution_count": 8,
   "id": "c05dc784-1a1e-4c46-a08d-0ce48d14e90a",
   "metadata": {},
   "outputs": [],
   "source": [
    "# Step 1: Clean up whitespace in relevant columns\n",
    "df_land_status['Land_or_Bldg_owned_4050'] = df_land_status['Land_or_Bldg_owned_4050'].str.strip()\n",
    "df_land_status['land_bldg_4155'] = df_land_status['land_bldg_4155'].str.strip()\n",
    "\n",
    "# Step 2: Convert 'land_bldg_4155' to integer (handle NaNs or empty strings)\n",
    "df_land_status['land_bldg_4155'] = pd.to_numeric(df_land_status['land_bldg_4155'], errors='coerce').fillna(0).astype(int)\n",
    "\n",
    "# Step 3: Keep only rows where '211_Organization_Name' is unique\n",
    "unique_orgs = df_land_status['211_Organization_Name'].value_counts()\n",
    "unique_org_names = unique_orgs[unique_orgs == 1].index\n",
    "df_land_status_unique = df_land_status[df_land_status['211_Organization_Name'].isin(unique_org_names)].copy()\n",
    "\n",
    "# Step 4: Update 'Tenure' based on 'Land_or_Bldg_owned_4050' and 'land_bldg_4155'\n",
    "def infer_tenure(row):\n",
    "    current_tenure = row['Tenure']\n",
    "    owned_status = row['Land_or_Bldg_owned_4050']\n",
    "    building_value = row['land_bldg_4155']\n",
    "    \n",
    "    if current_tenure in ['Rent', 'Own']:\n",
    "        return current_tenure  # Leave as is\n",
    "    if pd.notna(owned_status) and owned_status != 'N' and building_value > 0:\n",
    "        return 'Own'\n",
    "    else:\n",
    "        return 'Rent'\n",
    "\n",
    "df_land_status_unique['Tenure_LandStatus'] = df_land_status_unique.apply(infer_tenure, axis=1)\n",
    "\n",
    "# Step 5: Prepare for merge by keeping necessary columns\n",
    "merge_cols = ['CRA_Organization_Name', '211_Organization_Name', '211_Location_Name', '211_Address', '211_Postal_Code', 'X_Coordinate', 'Y_Coordinate']\n",
    "df_land_status_merge = df_land_status_unique[merge_cols + ['Tenure_LandStatus']]\n",
    "\n",
    "# Step 6: Merge into df_matches_all_final\n",
    "df_merged_land = pd.merge(\n",
    "    df_matches_all_final,\n",
    "    df_land_status_merge,\n",
    "    on=merge_cols,\n",
    "    how='left'\n",
    ")\n",
    "\n",
    "# Step 7: Update 'Tenure' where it's 'Unknown' or NaN, using 'Tenure_LandStatus'\n",
    "def update_tenure_land(row):\n",
    "    current_tenure = str(row['Tenure']).strip().lower()\n",
    "    land_tenure = row['Tenure_LandStatus']\n",
    "    \n",
    "    if current_tenure == 'unknown' or pd.isna(row['Tenure']):\n",
    "        if pd.notna(land_tenure):\n",
    "            return land_tenure\n",
    "    return row['Tenure']\n",
    "\n",
    "df_merged_land['Tenure'] = df_merged_land.apply(update_tenure_land, axis=1)\n",
    "\n",
    "# Step 8: Drop helper column\n",
    "df_matches_all_final_updated = df_merged_land.drop(columns=['Tenure_LandStatus'])"
   ]
  },
  {
   "cell_type": "code",
   "execution_count": 9,
   "id": "d24a332b-7456-4ca7-99ee-2c1348f59283",
   "metadata": {},
   "outputs": [
    {
     "data": {
      "text/plain": [
       "Tenure\n",
       "Rent       1326\n",
       "Own         545\n",
       "Unknown     173\n",
       "Name: count, dtype: int64"
      ]
     },
     "execution_count": 9,
     "metadata": {},
     "output_type": "execute_result"
    }
   ],
   "source": [
    "df_matches_all_final_updated['Tenure'].value_counts()"
   ]
  },
  {
   "cell_type": "markdown",
   "id": "e1b27631-39a6-4eb0-bbf1-b68734152f04",
   "metadata": {},
   "source": [
    "Join Sarah's manual listing of tenure"
   ]
  },
  {
   "cell_type": "code",
   "execution_count": 26,
   "id": "d4f09f06-edb4-4c2b-b27e-4d64a46c87cc",
   "metadata": {},
   "outputs": [],
   "source": [
    "df_sarah = pd.read_csv('../tenure-data/simplified_matches_uw_tenure_SCupdate(in).csv')"
   ]
  },
  {
   "cell_type": "code",
   "execution_count": 22,
   "id": "07b015a1-c3e9-44dd-b2c5-c37126e27096",
   "metadata": {},
   "outputs": [],
   "source": [
    "# Step 1: Define merge columns\n",
    "merge_cols = [\n",
    "    'CRA_Organization_Name', '211_Organization_Name', '211_Location_Name',\n",
    "    '211_Address', '211_Postal_Code', 'X_Coordinate', 'Y_Coordinate'\n",
    "]\n",
    "\n",
    "# Step 2: Prepare df_sarah for merge (keep only necessary columns)\n",
    "df_sarah_merge = df_sarah[merge_cols + ['Tenure']].rename(columns={'Tenure': 'Tenure_Sarah'})\n",
    "\n",
    "# Step 3: Merge with df_matches_all_final_updated\n",
    "df_merged_sarah = pd.merge(\n",
    "    df_matches_all_final_updated,\n",
    "    df_sarah_merge,\n",
    "    on=merge_cols,\n",
    "    how='left'\n",
    ")\n",
    "\n",
    "# Step 4: Update Tenure only if current is not 'Rent' or 'Own'\n",
    "def update_tenure_sarah(row):\n",
    "    current_tenure = str(row['Tenure']).strip().lower()\n",
    "    sarah_tenure = row['Tenure_Sarah']\n",
    "    \n",
    "    if current_tenure not in ['rent', 'own'] and pd.notna(sarah_tenure):\n",
    "        return sarah_tenure\n",
    "    return row['Tenure']\n",
    "\n",
    "df_merged_sarah['Tenure'] = df_merged_sarah.apply(update_tenure_sarah, axis=1)\n",
    "\n",
    "# Step 5: Drop helper column\n",
    "df_matches_all_final_sc = df_merged_sarah.drop(columns=['Tenure_Sarah'])"
   ]
  },
  {
   "cell_type": "code",
   "execution_count": 23,
   "id": "32ff7d3a-6bbc-4887-8a8c-188cd83c5930",
   "metadata": {},
   "outputs": [
    {
     "data": {
      "text/plain": [
       "Tenure\n",
       "Rent       1477\n",
       "Own         562\n",
       "Unknown     174\n",
       "Name: count, dtype: int64"
      ]
     },
     "execution_count": 23,
     "metadata": {},
     "output_type": "execute_result"
    }
   ],
   "source": [
    "df_matches_all_final_sc['Tenure'].value_counts()"
   ]
  },
  {
   "cell_type": "code",
   "execution_count": 25,
   "id": "80f1580c-d4ff-47fa-9af4-1cfc385924c9",
   "metadata": {},
   "outputs": [],
   "source": [
    "df_matches_all_final_sc.to_csv('../joined-data/simplified_matches_uw_tenure_final.csv', index=False)"
   ]
  },
  {
   "cell_type": "markdown",
   "id": "1b7dc282-762e-4358-bbb7-9f3d7c0ef433",
   "metadata": {},
   "source": [
    "## Save data as GeoJSON with updated columns"
   ]
  },
  {
   "cell_type": "code",
   "execution_count": 27,
   "id": "a4793f07-ec4f-4e36-a43c-f009deb9f247",
   "metadata": {},
   "outputs": [
    {
     "data": {
      "text/plain": [
       "Index(['CRA_BN_ID', 'CRA_Organization_Name', 'CRA_Category', 'CRA_SubCategory',\n",
       "       '211_Organization_Name', '211_Location_Name', '211_Address', '211_City',\n",
       "       '211_Postal_Code', 'X_Coordinate', 'Y_Coordinate', 'Match_Method',\n",
       "       'Tenure', 'UW', 'Tenure_Public'],\n",
       "      dtype='object')"
      ]
     },
     "execution_count": 27,
     "metadata": {},
     "output_type": "execute_result"
    }
   ],
   "source": [
    "df_matches_all = pd.read_csv('../joined-data/simplified_matches_uw_tenure_final.csv')\n",
    "df_matches_all.columns"
   ]
  },
  {
   "cell_type": "code",
   "execution_count": 28,
   "id": "8d21a3b3-7d5a-4da0-a252-a678f3cb4c9e",
   "metadata": {},
   "outputs": [],
   "source": [
    "df_matches_all['Tenure'] = df_matches_all['Tenure'].fillna('Unknown')\n",
    "df_matches_all = df_matches_all.drop(columns=['CRA_BN_ID', 'CRA_Organization_Name', '211_Location_Name', '211_Postal_Code', 'Match_Method', 'UW', 'Tenure_Public'])\n",
    "df_matches_all = df_matches_all.rename(columns={\n",
    "    '211_Organization_Name': 'N',\n",
    "    '211_Address': 'A',\n",
    "    'CRA_Category': 'C',\n",
    "    'CRA_SubCategory': 'S',\n",
    "    'Tenure': 'T',\n",
    "})"
   ]
  },
  {
   "cell_type": "code",
   "execution_count": 29,
   "id": "7558f9ee-edbc-4717-8bc7-6c92303f69e0",
   "metadata": {},
   "outputs": [],
   "source": [
    "gdf_matches = gpd.GeoDataFrame(\n",
    "    df_matches_all, geometry=gpd.points_from_xy(df_matches_all.X_Coordinate, df_matches_all.Y_Coordinate), crs=\"EPSG:4326\"\n",
    ")\n",
    "gdf_matches.to_file('../joined-data/simplified_matches_4326.geo.json', driver='GeoJSON')"
   ]
  }
 ],
 "metadata": {
  "kernelspec": {
   "display_name": "Python 3 (ipykernel)",
   "language": "python",
   "name": "python3"
  },
  "language_info": {
   "codemirror_mode": {
    "name": "ipython",
    "version": 3
   },
   "file_extension": ".py",
   "mimetype": "text/x-python",
   "name": "python",
   "nbconvert_exporter": "python",
   "pygments_lexer": "ipython3",
   "version": "3.12.5"
  }
 },
 "nbformat": 4,
 "nbformat_minor": 5
}
