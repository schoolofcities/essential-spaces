{
 "cells": [
  {
   "cell_type": "code",
   "execution_count": 2,
   "id": "00266d14-719e-4f62-b0be-2a40d53b0fa7",
   "metadata": {},
   "outputs": [],
   "source": [
    "import pandas as pd\n",
    "import geopandas as gpd\n",
    "import numpy as np"
   ]
  },
  {
   "cell_type": "markdown",
   "id": "481fc05a-8ffa-4495-89fd-57556deec1c9",
   "metadata": {},
   "source": [
    "Join together UW orgs with the CRA/211 data"
   ]
  },
  {
   "cell_type": "code",
   "execution_count": 9,
   "id": "e620fcda-2540-4fa9-b386-77bb27f8f68b",
   "metadata": {},
   "outputs": [],
   "source": [
    "df_matched_orgs = pd.read_csv('../joined-data/simplified_matches.csv')\n",
    "df_matched_orgs = df_matched_orgs.drop(columns=['CRA_Category', 'CRA_SubCategory'])\n",
    "\n",
    "df_uw = pd.read_excel('../cra-data/cre-uw-checking 2.xlsx', sheet_name=\"UW Orgs\")\n",
    "df_uw = df_uw.rename(columns={'CHARITABLE REGISTRATION NUMBER (BN)': 'CRA_BN_ID'})"
   ]
  },
  {
   "cell_type": "code",
   "execution_count": 10,
   "id": "721f0a26-1358-4b65-a1db-4790a7b4d740",
   "metadata": {},
   "outputs": [],
   "source": [
    "df_manual_uw_map = pd.read_csv('../joined-data/manual_matches_uw.csv')\n",
    "\n",
    "# Load 211 data, select columns only relevant to simplified form, and rename them\n",
    "df_211 = pd.read_csv(\"../211-data/2021_211_PeelYorkTO.csv\", encoding='latin-1')\n",
    "df_211 = df_211.drop(columns=[\"TaxonomyTerms\", \"Address2\", \"City\", \"County\", \"Province\"])\n",
    "df_211 = df_211.rename(columns={\n",
    "    \"PublicName\": \"211_PublicName\",\n",
    "    \"ParentAgency\": \"211_Name\",\n",
    "    \"Address1\":\"211_Address1\",\n",
    "    \"PostalCode\":\"211_PostalCode\",\n",
    "    \"Latitude\": \"211_Latitude\",\n",
    "    \"Longitude\": \"211_Longitude\",\n",
    "}).rename(columns={\n",
    "    '211_Name': '211_Organization_Name',\n",
    "    '211_PublicName': '211_Location_Name',\n",
    "    '211_Address1': '211_Address',\n",
    "    '211_PostalCode': '211_Postal_Code',\n",
    "    '211_Longitude': 'X_Coordinate',\n",
    "    '211_Latitude': 'Y_Coordinate'\n",
    "})\n",
    "df_211 = df_211.apply(lambda x: x.str.replace(';', ' - ') if x.dtype == 'object' else x)"
   ]
  },
  {
   "cell_type": "code",
   "execution_count": 11,
   "id": "5f11f6bb-04c2-40f0-9416-b178bd5572c6",
   "metadata": {},
   "outputs": [],
   "source": [
    "df_manual_orgs = pd.merge(\n",
    "    left = df_manual_uw_map,\n",
    "    right = df_211,\n",
    "    on = '211_Organization_Name',\n",
    "    how = 'left'\n",
    ")\n",
    "df_manual_orgs['Match_Method'] = 'Manual UW'"
   ]
  },
  {
   "cell_type": "code",
   "execution_count": 12,
   "id": "2bef3fee-3a0b-41e0-b0a1-6b3efe10336c",
   "metadata": {},
   "outputs": [],
   "source": [
    "df_uw_cra211_manual = pd.merge(\n",
    "    left = df_uw,\n",
    "    right = df_manual_orgs,\n",
    "    on = 'Funded Agency - CRA Name',\n",
    "    how = 'inner'  # Identify only these manual matches\n",
    ")"
   ]
  },
  {
   "cell_type": "code",
   "execution_count": 13,
   "id": "fa6934ed-2064-4399-940b-d8495a0c6fa0",
   "metadata": {},
   "outputs": [],
   "source": [
    "df_uw2 = df_uw[~df_uw['Funded Agency - CRA Name'].isin(df_uw_cra211_manual['Funded Agency - CRA Name'])]\n",
    "df_uw_cra211_bnid = pd.merge(\n",
    "    left = df_uw2,\n",
    "    right = df_matched_orgs,\n",
    "    on = 'CRA_BN_ID',\n",
    "    how = 'left'\n",
    ")"
   ]
  },
  {
   "cell_type": "code",
   "execution_count": 14,
   "id": "37d2c5bc-e633-49c0-97c9-6a89ccb80e99",
   "metadata": {},
   "outputs": [],
   "source": [
    "df_uw_cra211 = pd.concat([df_uw_cra211_manual, df_uw_cra211_bnid])\n",
    "df_uw_cra211 = df_uw_cra211.sort_values(by='CRA_Organization_Name')\n",
    "df_uw_cra211.to_csv('../joined-data/uw_cra211.csv', index=False)"
   ]
  },
  {
   "cell_type": "code",
   "execution_count": 8,
   "id": "3ae30aef-44b7-4a15-91d2-c1968526f94c",
   "metadata": {},
   "outputs": [],
   "source": [
    "# Previous merge function -- for reference\n",
    "# df_uw_cra211 = pd.merge(\n",
    "#     left = df_uw,\n",
    "#     right = df_matched_orgs,\n",
    "#     on = 'CRA_BN_ID',\n",
    "#     how = 'left'\n",
    "# )\n",
    "# df_uw_cra211 = df_uw_cra211.sort_values(by='CRA_Organization_Name')\n",
    "# df_uw_cra211.to_csv('../joined-data/uw_cra211.csv', index=False)"
   ]
  },
  {
   "cell_type": "code",
   "execution_count": 15,
   "id": "460585b1-dbcc-4e73-aaef-83f9a8b2f9d9",
   "metadata": {},
   "outputs": [
    {
     "name": "stdout",
     "output_type": "stream",
     "text": [
      "Total UW orgs: 278\n",
      "No. UW orgs with 211/CRA data: 226\n"
     ]
    }
   ],
   "source": [
    "print(f'Total UW orgs: {len(df_uw)}')\n",
    "\n",
    "# df_uw = df_uw[df_uw['CRA_BN_ID'].notna()]\n",
    "# print(f'Total UW orgs (with CRA BN ID): {len(df_uw)}')\n",
    "\n",
    "# num_uw_matches = len(set(df_uw['CRA_BN_ID']).intersection(set(df_orgs['CRA_BN_ID'])))\n",
    "num_uw_matches = df_uw_cra211['CRA_Organization_Name'].nunique()\n",
    "print(f'No. UW orgs with 211/CRA data: {num_uw_matches}')"
   ]
  },
  {
   "cell_type": "markdown",
   "id": "4d502e86-a760-478f-801e-0ca4582869eb",
   "metadata": {},
   "source": [
    "## Join tenure data"
   ]
  },
  {
   "cell_type": "code",
   "execution_count": 16,
   "id": "49e89e84-6d96-4dcb-84c7-61f3f4eb2f33",
   "metadata": {},
   "outputs": [],
   "source": [
    "df_tenure_by_cra = pd.read_excel('../../2024-work/SPRE_data/2021_CRE_DATA_Oct9.xlsx')\n",
    "df_tenure_by_cra = df_tenure_by_cra.drop_duplicates()\n",
    "# ['CRA_BN', 'CRA_LegalName', '211 Parent Agency Name', '211_Address1', '211_PostalCode', 'Tenure', 'Latitude', 'Longitude']\n",
    "df_tenure_by_cra = df_tenure_by_cra[['CRA_BN', 'Latitude', 'Longitude', 'Tenure']].rename(\n",
    "    columns={\n",
    "        'CRA_BN': 'CRA_BN_ID',\n",
    "        # 'CRA_LegalName': 'CRA_Organization_Name',\n",
    "        # '211 Parent Agency Name': '211_Organization_Name',\n",
    "        # '211_Address1': '211_Address',\n",
    "        # '211_PostalCode': '211_Postal_Code',\n",
    "        'Latitude': 'Y_Coordinate',\n",
    "        'Longitude': 'X_Coordinate',\n",
    "    }\n",
    ")\n",
    "\n",
    "# df_tenure_by_cra"
   ]
  },
  {
   "cell_type": "code",
   "execution_count": 17,
   "id": "64ea1a24-225d-454e-bf31-05b7a3bb0cd2",
   "metadata": {},
   "outputs": [
    {
     "name": "stdout",
     "output_type": "stream",
     "text": [
      "Number of locations with tenure data: 430\n",
      "...which is 43.57% of all locations\n",
      "...so 557 locations are missing tenure data\n",
      "...as there are 987 locations in total\n"
     ]
    }
   ],
   "source": [
    "df_uw_cra211_tenure = pd.merge(\n",
    "    left = df_uw_cra211,\n",
    "    right = df_tenure_by_cra,\n",
    "    on = ['CRA_BN_ID', 'Y_Coordinate', 'X_Coordinate'],\n",
    "    how = 'left'\n",
    ")\n",
    "df_uw_cra211_tenure.to_csv('../joined-data/uw_cra211_tenure.csv', index=False)\n",
    "\n",
    "num_tenure = df_uw_cra211_tenure['Tenure'].count()\n",
    "num_locs = len(df_uw_cra211_tenure)\n",
    "pct_tenure = round(num_tenure / num_locs, 4) * 100\n",
    "print(f'Number of locations with tenure data: {num_tenure}')\n",
    "print(f'...which is {pct_tenure}% of all locations')\n",
    "print(f'...so {num_locs - num_tenure} locations are missing tenure data')\n",
    "print(f'...as there are {num_locs} locations in total')"
   ]
  },
  {
   "cell_type": "markdown",
   "id": "a30840b8-38b5-4035-a879-e695251b8461",
   "metadata": {},
   "source": [
    "## Join tenure data to simplified_matches and extend it"
   ]
  },
  {
   "cell_type": "code",
   "execution_count": 18,
   "id": "bf155558-3c3b-4a6f-897a-410097027e87",
   "metadata": {},
   "outputs": [
    {
     "name": "stdout",
     "output_type": "stream",
     "text": [
      "Number of all locations with tenure data: 1042\n",
      "...which is 46.29% of all locations\n",
      "...so 1209 locations are missing tenure data\n",
      "...as there are 2251 locations in total\n"
     ]
    }
   ],
   "source": [
    "df_matched_orgs = pd.read_csv('../joined-data/simplified_matches.csv')\n",
    "\n",
    "# Add the UW-only CRA organizations\n",
    "df_matched_extended = pd.concat([\n",
    "    df_matched_orgs,\n",
    "    df_uw_cra211_manual.drop(columns=['Funded Agency - CRA Name', 'City', 'Reason', 'Region']).rename(columns={'Category': 'CRA_Category', 'Sub Category': 'CRA_SubCategory'})\n",
    "]).sort_values(by='CRA_Organization_Name')\n",
    "\n",
    "# Add tenure information\n",
    "df_matched_extended = pd.merge(\n",
    "    left = df_matched_extended,\n",
    "    right = df_tenure_by_cra,\n",
    "    on = ['CRA_BN_ID', 'Y_Coordinate', 'X_Coordinate'],\n",
    "    how = 'left'\n",
    ")\n",
    "\n",
    "# Specify with an organization is UW or not\n",
    "df_matched_extended['UW'] = df_matched_extended['CRA_Organization_Name'].isin(df_uw_cra211_tenure['CRA_Organization_Name'])\n",
    "\n",
    "df_matched_extended.to_csv('../joined-data/simplified_matches_uw_tenure.csv', index=False)\n",
    "\n",
    "num_tenure = df_matched_extended['Tenure'].count()\n",
    "num_locs = len(df_matched_extended)\n",
    "pct_tenure = round(num_tenure / num_locs, 4) * 100\n",
    "print(f'Number of all locations with tenure data: {num_tenure}')\n",
    "print(f'...which is {pct_tenure}% of all locations')\n",
    "print(f'...so {num_locs - num_tenure} locations are missing tenure data')\n",
    "print(f'...as there are {num_locs} locations in total')"
   ]
  },
  {
   "cell_type": "markdown",
   "id": "1b7dc282-762e-4358-bbb7-9f3d7c0ef433",
   "metadata": {},
   "source": [
    "## Save data as GeoJSON with updated columns"
   ]
  },
  {
   "cell_type": "code",
   "execution_count": 19,
   "id": "a4793f07-ec4f-4e36-a43c-f009deb9f247",
   "metadata": {},
   "outputs": [
    {
     "data": {
      "text/plain": [
       "Index(['CRA_BN_ID', 'CRA_Organization_Name', 'CRA_Category', 'CRA_SubCategory',\n",
       "       '211_Organization_Name', '211_Location_Name', '211_Address',\n",
       "       '211_Postal_Code', 'X_Coordinate', 'Y_Coordinate', 'Match_Method',\n",
       "       'Tenure', 'UW'],\n",
       "      dtype='object')"
      ]
     },
     "execution_count": 19,
     "metadata": {},
     "output_type": "execute_result"
    }
   ],
   "source": [
    "df_matches_all = pd.read_csv('../joined-data/simplified_matches_uw_tenure.csv')\n",
    "df_matches_all.columns"
   ]
  },
  {
   "cell_type": "code",
   "execution_count": 20,
   "id": "8d21a3b3-7d5a-4da0-a252-a678f3cb4c9e",
   "metadata": {},
   "outputs": [],
   "source": [
    "df_matches_all = df_matches_all.drop(columns=['CRA_BN_ID', 'CRA_Organization_Name', '211_Location_Name', '211_Postal_Code', 'Match_Method', 'UW'])\n",
    "df_matches_all = df_matches_all.rename(columns={\n",
    "    '211_Organization_Name': 'N',\n",
    "    '211_Address': 'A',\n",
    "    'CRA_Category': 'C',\n",
    "    'CRA_SubCategory': 'S',\n",
    "    'Tenure': 'T',\n",
    "})"
   ]
  },
  {
   "cell_type": "code",
   "execution_count": 25,
   "id": "7558f9ee-edbc-4717-8bc7-6c92303f69e0",
   "metadata": {},
   "outputs": [],
   "source": [
    "gdf_matches = gpd.GeoDataFrame(\n",
    "    df_matches_all, geometry=gpd.points_from_xy(df_matches_all.X_Coordinate, df_matches_all.Y_Coordinate), crs=\"EPSG:4326\"\n",
    ")\n",
    "gdf_matches.to_file('../joined-data/simplified_matches_4326.geojson', driver='GeoJSON')"
   ]
  }
 ],
 "metadata": {
  "kernelspec": {
   "display_name": "Python 3 (ipykernel)",
   "language": "python",
   "name": "python3"
  },
  "language_info": {
   "codemirror_mode": {
    "name": "ipython",
    "version": 3
   },
   "file_extension": ".py",
   "mimetype": "text/x-python",
   "name": "python",
   "nbconvert_exporter": "python",
   "pygments_lexer": "ipython3",
   "version": "3.12.5"
  }
 },
 "nbformat": 4,
 "nbformat_minor": 5
}
