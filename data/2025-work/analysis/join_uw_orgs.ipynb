{
 "cells": [
  {
   "cell_type": "code",
   "execution_count": 1,
   "id": "00266d14-719e-4f62-b0be-2a40d53b0fa7",
   "metadata": {},
   "outputs": [],
   "source": [
    "import pandas as pd\n",
    "import geopandas as gpd\n",
    "import numpy as np\n",
    "\n",
    "import unicodedata\n",
    "import re"
   ]
  },
  {
   "cell_type": "markdown",
   "id": "481fc05a-8ffa-4495-89fd-57556deec1c9",
   "metadata": {},
   "source": [
    "## Examine the 2025 August UW data to detect possible missing organizations"
   ]
  },
  {
   "cell_type": "markdown",
   "id": "8c0e1526-04ad-4ef9-9ea8-e9766dafcc84",
   "metadata": {},
   "source": [
    "Find missing UW orgs from 2025"
   ]
  },
  {
   "cell_type": "code",
   "execution_count": 2,
   "id": "bb1f1975-2f41-4c12-b1d8-1e350433e5d4",
   "metadata": {},
   "outputs": [],
   "source": [
    "# Clean text functions\n",
    "def clean_text(text):\n",
    "    if pd.isna(text):\n",
    "        return ''\n",
    "    \n",
    "    text = unicodedata.normalize('NFKD', str(text)).encode('ascii', 'ignore').decode('ascii')\n",
    "    text = re.sub(r'/.*$', '', text)\n",
    "    text = re.sub(r'\\(.*?\\)', '', text)\n",
    "    text = re.sub(r'\\b(the|inc|incorporated|llc|corp|corporation|co|company)\\b', '', text, flags=re.IGNORECASE)\n",
    "    text = re.sub(r'[^a-zA-Z0-9]', '', text).lower()\n",
    "    \n",
    "    return text.strip()\n",
    "\n",
    "def clean_text_with_spaces(text):\n",
    "    if pd.isna(text):\n",
    "        return ''\n",
    "    \n",
    "    text = unicodedata.normalize('NFKD', str(text)).encode('ascii', 'ignore').decode('ascii')\n",
    "    text = re.sub(r'/.*$', '', text)\n",
    "    text = re.sub(r'\\(.*?\\)', '', text)\n",
    "    text = re.sub(r'\\b(the|inc|incorporated|llc|corp|corporation|co|company)\\b', '', text, flags=re.IGNORECASE)\n",
    "    text = re.sub(r'[^a-zA-Z0-9 ]', '', text).lower()\n",
    "    \n",
    "    text = re.sub(r' +', ' ', text).strip()\n",
    "    \n",
    "    return text\n",
    "\n",
    "# Load the dataframes\n",
    "# df_uw_cra211 = pd.read_csv('../joined-data/uw_cra211.csv', encoding='latin')\n",
    "df_uw_cra211 = pd.read_excel('../uw-data/cre-uw-checking 2.xlsx', sheet_name=\"UW Orgs\")\n",
    "df_uw3 = pd.read_csv('../uw-data/2024-25 Program Locations for Mapping(Sheet2).csv', encoding='latin')\n",
    "\n",
    "# Create dummy columns for comparison (without spaces)\n",
    "df_uw_cra211['dummy'] = df_uw_cra211['Funded Agency - CRA Name'].apply(clean_text)\n",
    "df_uw3['dummy'] = df_uw3['Organization Name: | Legal Name'].apply(clean_text)\n",
    "df_uw3['dummy_space'] = df_uw3['Organization Name: | Legal Name'].apply(clean_text_with_spaces)\n",
    "\n",
    "# Get unique organization names from df_uw3\n",
    "uw3_orgs = df_uw3['Organization Name: | Legal Name'].unique()\n",
    "uw3_dummies = df_uw3['dummy'].unique()\n",
    "uw3_dummies_space = df_uw3['dummy_space'].unique()\n",
    "\n",
    "# Find which organizations don't have matches in df_uw_cra211\n",
    "missing_orgs = []\n",
    "for dummy_space, dummy in zip(uw3_dummies_space, uw3_dummies):\n",
    "    if dummy not in df_uw_cra211['dummy'].values:\n",
    "        # Get the clean version with spaces for reporting\n",
    "        missing_orgs.append(dummy_space)\n",
    "\n",
    "# Report the results\n",
    "# if len(missing_orgs) > 0:\n",
    "#     print(\"Organizations in df_uw3 that don't have matches in df_uw_cra211:\")\n",
    "#     for i, org in enumerate(missing_orgs, 1):\n",
    "#         print(f\"{i}. {org}\")\n",
    "# else:\n",
    "#     print(\"All organizations in df_uw3 have matches in df_uw_cra211\")\n",
    "\n",
    "df_uw_missing = df_uw3[df_uw3['dummy_space'].isin(missing_orgs)][['Organization Name: | Legal Name', 'Organization Name: | Operating/Public Name']].drop_duplicates()\n",
    "df_uw_missing.to_csv('../uw-data/2025-uw-missing.csv', index=False)"
   ]
  },
  {
   "cell_type": "markdown",
   "id": "86edc7ca-43f2-45e3-b97a-63025d50b649",
   "metadata": {},
   "source": [
    "## Join together UW orgs with the CRA/211 data"
   ]
  },
  {
   "cell_type": "code",
   "execution_count": 3,
   "id": "e620fcda-2540-4fa9-b386-77bb27f8f68b",
   "metadata": {},
   "outputs": [],
   "source": [
    "df_matched_orgs = pd.read_csv('../joined-data/simplified_matches.csv')\n",
    "df_matched_orgs = df_matched_orgs.drop(columns=['CRA_Category', 'CRA_SubCategory'])\n",
    "\n",
    "df_uw = pd.read_excel('../uw-data/cre-uw-checking 2.xlsx', sheet_name=\"UW Orgs\")\n",
    "df_uw = df_uw.rename(columns={'CHARITABLE REGISTRATION NUMBER (BN)': 'CRA_BN_ID'})"
   ]
  },
  {
   "cell_type": "code",
   "execution_count": 4,
   "id": "721f0a26-1358-4b65-a1db-4790a7b4d740",
   "metadata": {},
   "outputs": [],
   "source": [
    "df_manual_uw_map = pd.read_csv('../uw-data/manual_matches_uw.csv')\n",
    "\n",
    "# Load 211 data, select columns only relevant to simplified form, and rename them\n",
    "df_211 = pd.read_csv(\"../211-data/2021_211_PeelYorkTO.csv\", encoding='latin-1')\n",
    "df_211 = df_211.drop(columns=[\"TaxonomyTerms\", \"Address2\", \"County\", \"Province\"])\n",
    "df_211 = df_211.rename(columns={\n",
    "    \"PublicName\": \"211_PublicName\",\n",
    "    \"ParentAgency\": \"211_Name\",\n",
    "    \"Address1\":\"211_Address1\",\n",
    "    \"City\":\"211_City\",\n",
    "    \"PostalCode\":\"211_PostalCode\",\n",
    "    \"Latitude\": \"211_Latitude\",\n",
    "    \"Longitude\": \"211_Longitude\",\n",
    "}).rename(columns={\n",
    "    '211_Name': '211_Organization_Name',\n",
    "    '211_PublicName': '211_Location_Name',\n",
    "    '211_Address1': '211_Address',\n",
    "    '211_City': '211_City',\n",
    "    '211_PostalCode': '211_Postal_Code',\n",
    "    '211_Longitude': 'X_Coordinate',\n",
    "    '211_Latitude': 'Y_Coordinate'\n",
    "})\n",
    "df_211 = df_211.apply(lambda x: x.str.replace(';', ' - ') if x.dtype == 'object' else x)"
   ]
  },
  {
   "cell_type": "markdown",
   "id": "46448811-0fc9-49fe-9379-7becbe3a4290",
   "metadata": {},
   "source": [
    "Join together manual matches "
   ]
  },
  {
   "cell_type": "code",
   "execution_count": 5,
   "id": "5f11f6bb-04c2-40f0-9416-b178bd5572c6",
   "metadata": {},
   "outputs": [],
   "source": [
    "df_manual_orgs = pd.merge(\n",
    "    left = df_manual_uw_map,\n",
    "    right = df_211,\n",
    "    on = '211_Organization_Name',\n",
    "    how = 'left'\n",
    ")\n",
    "df_manual_orgs['Match_Method'] = 'Manual UW'"
   ]
  },
  {
   "cell_type": "code",
   "execution_count": 6,
   "id": "2bef3fee-3a0b-41e0-b0a1-6b3efe10336c",
   "metadata": {},
   "outputs": [],
   "source": [
    "df_uw_cra211_manual = pd.merge(\n",
    "    left = df_uw,\n",
    "    right = df_manual_orgs,\n",
    "    on = 'Funded Agency - CRA Name',\n",
    "    how = 'inner'  # Identify only these manual matches\n",
    ")"
   ]
  },
  {
   "cell_type": "markdown",
   "id": "3e0d58ea-8662-4d46-8ded-6b2ae00e618b",
   "metadata": {},
   "source": [
    "For other organizations, use the CRA ID"
   ]
  },
  {
   "cell_type": "code",
   "execution_count": 7,
   "id": "fa6934ed-2064-4399-940b-d8495a0c6fa0",
   "metadata": {},
   "outputs": [],
   "source": [
    "df_uw2 = df_uw[~df_uw['Funded Agency - CRA Name'].isin(df_uw_cra211_manual['Funded Agency - CRA Name'])]\n",
    "df_uw_cra211_bnid = pd.merge(\n",
    "    left = df_uw2,\n",
    "    right = df_matched_orgs,\n",
    "    on = 'CRA_BN_ID',\n",
    "    how = 'left'\n",
    ")"
   ]
  },
  {
   "cell_type": "markdown",
   "id": "4f5aebfd-e240-4924-961f-29cf076932c4",
   "metadata": {},
   "source": [
    "Incorporate the August 2025 version of UW organizations (REDUNDANT)"
   ]
  },
  {
   "cell_type": "code",
   "execution_count": 8,
   "id": "80696a49-ebdf-4d6a-9187-691bcae6b5bd",
   "metadata": {},
   "outputs": [],
   "source": [
    "# df_uw25_map = pd.read_csv('../uw-data/2025-uw-missing-matches.csv').dropna().drop(columns=['UW 2025'])\n",
    "# df_uw25_map = df_uw25_map[~df_uw25_map['Funded Agency - CRA Name'].isin(df_uw['Funded Agency - CRA Name'])]\n",
    "# df_uw25_map[['CRA_BN_ID', 'Category', 'Sub Category', 'City', 'Reason', 'Region']] = np.nan\n",
    "\n",
    "# df_uw25_manual = pd.merge(\n",
    "#     left = df_uw25_map,\n",
    "#     right = df_211,\n",
    "#     on = '211_Organization_Name',\n",
    "#     how = 'left'\n",
    "# )\n",
    "# df_uw25_manual['Match_Method'] = 'Manual UW 25'"
   ]
  },
  {
   "cell_type": "markdown",
   "id": "e83e07cf-0b52-427e-9107-ef2553310420",
   "metadata": {},
   "source": [
    "Concat"
   ]
  },
  {
   "cell_type": "code",
   "execution_count": 9,
   "id": "37d2c5bc-e633-49c0-97c9-6a89ccb80e99",
   "metadata": {},
   "outputs": [],
   "source": [
    "df_uw_cra211 = pd.concat([df_uw_cra211_manual, df_uw_cra211_bnid])\n",
    "df_uw_cra211 = df_uw_cra211.sort_values(by='CRA_Organization_Name')\n",
    "df_uw_cra211.to_csv('../joined-data/uw_cra211.csv', index=False)"
   ]
  },
  {
   "cell_type": "code",
   "execution_count": 10,
   "id": "d0930648-5815-405e-9883-81600b49d763",
   "metadata": {},
   "outputs": [
    {
     "data": {
      "text/plain": [
       "Index(['Funded Agency - CRA Name', 'CRA_BN_ID', 'Category', 'Sub Category',\n",
       "       'City', 'Reason', 'Region', 'CRA_Organization_Name',\n",
       "       '211_Organization_Name', '211_Location_Name', '211_Address', '211_City',\n",
       "       '211_Postal_Code', 'Y_Coordinate', 'X_Coordinate', 'Match_Method'],\n",
       "      dtype='object')"
      ]
     },
     "execution_count": 10,
     "metadata": {},
     "output_type": "execute_result"
    }
   ],
   "source": [
    "df_uw_cra211.columns"
   ]
  },
  {
   "cell_type": "code",
   "execution_count": 11,
   "id": "460585b1-dbcc-4e73-aaef-83f9a8b2f9d9",
   "metadata": {},
   "outputs": [
    {
     "name": "stdout",
     "output_type": "stream",
     "text": [
      "Total UW orgs: 278\n",
      "No. UW orgs with 211/CRA data: 226\n"
     ]
    }
   ],
   "source": [
    "print(f'Total UW orgs: {len(df_uw)}')\n",
    "\n",
    "num_uw_matches = df_uw_cra211['CRA_Organization_Name'].nunique()\n",
    "print(f'No. UW orgs with 211/CRA data: {num_uw_matches}')"
   ]
  },
  {
   "cell_type": "markdown",
   "id": "6ccf91ba-a9cb-420e-b4e6-910a9e03bf40",
   "metadata": {},
   "source": [
    "## Extend and prune data to account for missing data and superfluous entries"
   ]
  },
  {
   "cell_type": "code",
   "execution_count": 12,
   "id": "393cf472-1207-4c94-9271-d9d3fa7f56a5",
   "metadata": {},
   "outputs": [],
   "source": [
    "df_matched_orgs = pd.read_csv('../joined-data/simplified_matches.csv')\n",
    "df_matched_extended = pd.concat([\n",
    "    df_matched_orgs,\n",
    "    df_uw_cra211_manual.drop(columns=['Funded Agency - CRA Name', 'City', 'Reason', 'Region']).rename(columns={'Category': 'CRA_Category', 'Sub Category': 'CRA_SubCategory'})\n",
    "]).sort_values(by='CRA_Organization_Name')"
   ]
  },
  {
   "cell_type": "code",
   "execution_count": 13,
   "id": "d6c451cf-ac84-47d5-9f7f-2a1425aface8",
   "metadata": {},
   "outputs": [],
   "source": [
    "# Delete organizations and locations which are no longer valid\n",
    "df_filtered = df_matched_extended.copy()\n",
    "\n",
    "df_filtered = df_filtered[\n",
    "    (df_filtered['CRA_Organization_Name'] != \"CANADIAN MENTAL HEALTH ASSOCIATION, SIMCOE COUNTY BRANCH\") &\n",
    "    (df_filtered['CRA_Organization_Name'] != \"LAKE SIMCOE REGION CONSERVATION AUTHORITY\")\n",
    "]\n",
    "\n",
    "df_filtered = df_filtered[\n",
    "    df_filtered['211_Address'] != \"Tannery Mall - 465 Davis Dr\"\n",
    "]\n",
    "\n",
    "df_matched_extended = df_filtered.copy()"
   ]
  },
  {
   "cell_type": "code",
   "execution_count": 14,
   "id": "1bccc762-6b2e-4c8a-81ab-92e57372c868",
   "metadata": {},
   "outputs": [],
   "source": [
    "# Rename locations which have since changed names\n",
    "# First replacement: Brampton Multicultural Community Centre -> Building Multicultural Centre\n",
    "mask_brampton = df_matched_extended['211_Organization_Name'] == 'Brampton Multicultural Community Centre'\n",
    "df_matched_extended.loc[mask_brampton, '211_Organization_Name'] = 'Building Multicultural Centre'\n",
    "df_matched_extended.loc[mask_brampton, 'CRA_Organization_Name'] = 'BUILDING MULTICULTURAL CENTRE'\n",
    "df_matched_extended.loc[mask_brampton, '211_Location_Name'] = df_matched_extended.loc[mask_brampton, '211_Location_Name'].str.replace(\n",
    "    'Brampton Multicultural Community Centre',\n",
    "    'Building Multicultural Centre',\n",
    "    regex=False\n",
    ")\n",
    "\n",
    "# Second replacement: Malton Neighbourhood Services -> My Neighbourhood Services\n",
    "mask_malton = df_matched_extended['211_Organization_Name'] == 'Malton Neighbourhood Services'\n",
    "df_matched_extended.loc[mask_malton, '211_Organization_Name'] = 'My Neighbourhood Services'\n",
    "df_matched_extended.loc[mask_malton, 'CRA_Organization_Name'] = 'MY NEIGHBOURHOOD SERVICES'\n",
    "df_matched_extended.loc[mask_malton, '211_Location_Name'] = df_matched_extended.loc[mask_malton, '211_Location_Name'].str.replace(\n",
    "    'Malton Neighbourhood Services',\n",
    "    'My Neighbourhood Services',\n",
    "    regex=False\n",
    ")\n",
    "\n",
    "# Fix coordinates\n",
    "mask_malton = df_matched_extended['211_Organization_Name'] == 'Pentecostal Assemblies of Canada'\n",
    "df_matched_extended.loc[mask_malton, 'X_Coordinate'] = -79.756686\n",
    "df_matched_extended.loc[mask_malton, 'Y_Coordinate'] = 43.597961"
   ]
  },
  {
   "cell_type": "code",
   "execution_count": 15,
   "id": "899a3dd1-c1bf-49eb-b2ca-760e2a63a109",
   "metadata": {},
   "outputs": [],
   "source": [
    "# Save an extended version of this as the manual matches were not included in the initial matching\n",
    "df_matched_extended.to_csv('../joined-data/simplified_matches_uw.csv', index=False)"
   ]
  }
 ],
 "metadata": {
  "kernelspec": {
   "display_name": "py312",
   "language": "python",
   "name": "python3"
  },
  "language_info": {
   "codemirror_mode": {
    "name": "ipython",
    "version": 3
   },
   "file_extension": ".py",
   "mimetype": "text/x-python",
   "name": "python",
   "nbconvert_exporter": "python",
   "pygments_lexer": "ipython3",
   "version": "3.12.5"
  }
 },
 "nbformat": 4,
 "nbformat_minor": 5
}
