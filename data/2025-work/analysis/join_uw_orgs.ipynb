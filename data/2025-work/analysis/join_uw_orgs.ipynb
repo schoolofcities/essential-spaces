{
 "cells": [
  {
   "cell_type": "code",
   "execution_count": 1,
   "id": "00266d14-719e-4f62-b0be-2a40d53b0fa7",
   "metadata": {},
   "outputs": [],
   "source": [
    "import pandas as pd\n",
    "import geopandas as gpd\n",
    "import numpy as np"
   ]
  },
  {
   "cell_type": "markdown",
   "id": "481fc05a-8ffa-4495-89fd-57556deec1c9",
   "metadata": {},
   "source": [
    "Join together UW orgs with the CRA/211 data"
   ]
  },
  {
   "cell_type": "code",
   "execution_count": 3,
   "id": "e620fcda-2540-4fa9-b386-77bb27f8f68b",
   "metadata": {},
   "outputs": [
    {
     "name": "stdout",
     "output_type": "stream",
     "text": [
      "Total UW orgs: 278\n",
      "Total UW orgs (with CRA BN ID): 261\n",
      "No. UW orgs with 211/CRA data: 167\n"
     ]
    }
   ],
   "source": [
    "df_orgs = pd.read_csv('../joined-data/simplified_matches.csv')\n",
    "\n",
    "df_uw = pd.read_excel('../cra-data/cre-uw-checking 2.xlsx', sheet_name=\"UW Orgs\")\n",
    "df_uw = df_uw.rename(columns={'CHARITABLE REGISTRATION NUMBER (BN)': 'CRA_BN_ID'})\n",
    "\n",
    "print(f'Total UW orgs: {len(df_uw)}')\n",
    "\n",
    "df_uw = df_uw[df_uw['CRA_BN_ID'].notna()]\n",
    "print(f'Total UW orgs (with CRA BN ID): {len(df_uw)}')\n",
    "\n",
    "num_uw_matches = len(set(df_uw['CRA_BN_ID']).intersection(set(df_orgs['CRA_BN_ID'])))\n",
    "print(f'No. UW orgs with 211/CRA data: {num_uw_matches}')"
   ]
  },
  {
   "cell_type": "code",
   "execution_count": 7,
   "id": "3ae30aef-44b7-4a15-91d2-c1968526f94c",
   "metadata": {},
   "outputs": [],
   "source": [
    "df_uw_cra211 = pd.merge(\n",
    "    left = df_uw,\n",
    "    right = df_orgs,\n",
    "    on = 'CRA_BN_ID',\n",
    "    how = 'left'\n",
    ")\n",
    "df_uw_cra211 = df_uw_cra211.sort_values(by='CRA_Organization_Name')\n",
    "df_uw_cra211.to_csv('../joined-data/uw_cra211.csv', index=False)"
   ]
  },
  {
   "cell_type": "markdown",
   "id": "4d502e86-a760-478f-801e-0ca4582869eb",
   "metadata": {},
   "source": [
    "Join tenure data"
   ]
  }
 ],
 "metadata": {
  "kernelspec": {
   "display_name": "Python 3 (ipykernel)",
   "language": "python",
   "name": "python3"
  },
  "language_info": {
   "codemirror_mode": {
    "name": "ipython",
    "version": 3
   },
   "file_extension": ".py",
   "mimetype": "text/x-python",
   "name": "python",
   "nbconvert_exporter": "python",
   "pygments_lexer": "ipython3",
   "version": "3.12.5"
  }
 },
 "nbformat": 4,
 "nbformat_minor": 5
}
