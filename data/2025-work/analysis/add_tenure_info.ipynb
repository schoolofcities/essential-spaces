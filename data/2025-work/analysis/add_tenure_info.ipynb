{
 "cells": [
  {
   "cell_type": "code",
   "execution_count": 1,
   "id": "11ff7e8a-4e6b-4bd0-8d91-bea7c737c6ff",
   "metadata": {},
   "outputs": [],
   "source": [
    "import pandas as pd\n",
    "import geopandas as gpd\n",
    "import numpy as np\n",
    "\n",
    "import unicodedata\n",
    "import re"
   ]
  },
  {
   "cell_type": "markdown",
   "id": "df8d0310-29bd-41d5-8af9-db4c3798658c",
   "metadata": {},
   "source": [
    "## Add tenure data to UW locations, using old tenure information"
   ]
  },
  {
   "cell_type": "code",
   "execution_count": 2,
   "id": "967fdaf3-d5c5-41ae-9392-25c1651154ec",
   "metadata": {},
   "outputs": [],
   "source": [
    "df_tenure_by_cra = pd.read_excel('../../2024-work/SPRE_data/2021_CRE_DATA_Oct9.xlsx')\n",
    "df_tenure_by_cra = df_tenure_by_cra.drop_duplicates()\n",
    "# ['CRA_BN', 'CRA_LegalName', '211 Parent Agency Name', '211_Address1', '211_PostalCode', 'Tenure', 'Latitude', 'Longitude']\n",
    "df_tenure_by_cra = df_tenure_by_cra[['CRA_BN', 'Latitude', 'Longitude', 'Tenure']].rename(\n",
    "    columns={\n",
    "        'CRA_BN': 'CRA_BN_ID',\n",
    "        # 'CRA_LegalName': 'CRA_Organization_Name',\n",
    "        # '211 Parent Agency Name': '211_Organization_Name',\n",
    "        # '211_Address1': '211_Address',\n",
    "        # '211_PostalCode': '211_Postal_Code',\n",
    "        'Latitude': 'Y_Coordinate',\n",
    "        'Longitude': 'X_Coordinate',\n",
    "    }\n",
    ")\n",
    "\n",
    "# df_tenure_by_cra"
   ]
  },
  {
   "cell_type": "code",
   "execution_count": 3,
   "id": "bfc843f0-e45f-49d8-af44-458435fb6cde",
   "metadata": {},
   "outputs": [
    {
     "name": "stdout",
     "output_type": "stream",
     "text": [
      "Number of locations with tenure data: 430\n",
      "...which is 43.57% of all locations\n",
      "...so 557 locations are missing tenure data\n",
      "...as there are 987 locations in total\n"
     ]
    }
   ],
   "source": [
    "df_uw_cra211 = pd.read_csv('../joined-data/uw_cra211.csv')\n",
    "df_uw_cra211_tenure = pd.merge(\n",
    "    left = df_uw_cra211,\n",
    "    right = df_tenure_by_cra,\n",
    "    on = ['CRA_BN_ID', 'Y_Coordinate', 'X_Coordinate'],\n",
    "    how = 'left'\n",
    ")\n",
    "df_uw_cra211_tenure.to_csv('../joined-data/uw_cra211_tenure.csv', index=False)\n",
    "\n",
    "num_tenure = df_uw_cra211_tenure['Tenure'].count()\n",
    "num_locs = len(df_uw_cra211_tenure)\n",
    "pct_tenure = round(num_tenure / num_locs, 4) * 100\n",
    "print(f'Number of locations with tenure data: {num_tenure}')\n",
    "print(f'...which is {pct_tenure}% of all locations')\n",
    "print(f'...so {num_locs - num_tenure} locations are missing tenure data')\n",
    "print(f'...as there are {num_locs} locations in total')"
   ]
  },
  {
   "cell_type": "markdown",
   "id": "d340b760-450a-4adc-9061-81383e32dfb4",
   "metadata": {},
   "source": [
    "## Join tenure data to simplified_matches"
   ]
  },
  {
   "cell_type": "code",
   "execution_count": 4,
   "id": "6a24804f-6a5e-4cce-a72f-da74b24711a7",
   "metadata": {},
   "outputs": [
    {
     "name": "stdout",
     "output_type": "stream",
     "text": [
      "Number of all locations with tenure data: 1042\n",
      "...which is 46.35% of all locations\n",
      "...so 1206 locations are missing tenure data\n",
      "...as there are 2248 locations in total\n"
     ]
    }
   ],
   "source": [
    "df_matched_extended = pd.read_csv('../joined-data/simplified_matches_uw.csv')\n",
    "\n",
    "# Add tenure information\n",
    "df_matched_extended = pd.merge(\n",
    "    left = df_matched_extended,\n",
    "    right = df_tenure_by_cra,\n",
    "    on = ['CRA_BN_ID', 'Y_Coordinate', 'X_Coordinate'],\n",
    "    how = 'left'\n",
    ")\n",
    "\n",
    "# Specify with an organization is UW or not\n",
    "df_matched_extended['UW'] = df_matched_extended['CRA_Organization_Name'].isin(df_uw_cra211_tenure['CRA_Organization_Name'])\n",
    "\n",
    "df_matched_extended.to_csv('../joined-data/simplified_matches_uw_tenure.csv', index=False)\n",
    "\n",
    "num_tenure = df_matched_extended['Tenure'].count()\n",
    "num_locs = len(df_matched_extended)\n",
    "pct_tenure = round(num_tenure / num_locs, 4) * 100\n",
    "print(f'Number of all locations with tenure data: {num_tenure}')\n",
    "print(f'...which is {pct_tenure}% of all locations')\n",
    "print(f'...so {num_locs - num_tenure} locations are missing tenure data')\n",
    "print(f'...as there are {num_locs} locations in total')"
   ]
  },
  {
   "cell_type": "code",
   "execution_count": 5,
   "id": "e24b48fb-73cd-4ca5-bcf7-74ab9a89c575",
   "metadata": {},
   "outputs": [
    {
     "name": "stdout",
     "output_type": "stream",
     "text": [
      "211_City\n",
      "Toronto                   772\n",
      "Mississauga                45\n",
      "Brampton                   37\n",
      "Markham                    24\n",
      "Richmond Hill              24\n",
      "Newmarket                  23\n",
      "Vaughan                    17\n",
      "Aurora                     17\n",
      "Georgina                    5\n",
      "Whitchurch-Stouffville      2\n",
      "King                        2\n",
      "East Gwillimbury            2\n",
      "Caledon                     1\n",
      "Name: count, dtype: int64\n"
     ]
    }
   ],
   "source": [
    "df_matched_extended = pd.read_csv('../joined-data/simplified_matches_uw_tenure.csv')\n",
    "\n",
    "# Filter to only rows with no Tenure\n",
    "df_matched_extended_nt = df_matched_extended[df_matched_extended['Tenure'].isna()]\n",
    "\n",
    "# Count occurrences\n",
    "name_counts = df_matched_extended_nt['211_Organization_Name'].value_counts()\n",
    "\n",
    "# Split into duplicates and uniques\n",
    "df_dupes = df_matched_extended_nt[df_matched_extended_nt['211_Organization_Name'].isin(name_counts[name_counts > 1].index)]\n",
    "df_uniques = df_matched_extended_nt[df_matched_extended_nt['211_Organization_Name'].isin(name_counts[name_counts == 1].index)]\n",
    "\n",
    "# Save the version with only repeated orgs\n",
    "df_dupes.sort_values(by='211_City').to_csv('../tenure-data/simplified_matches_uw_no_tenure.csv', index=False)\n",
    "\n",
    "# Save the version with only unique orgs (if needed)\n",
    "df_uniques.sort_values(by='211_City').to_csv('../tenure-data/simplified_matches_uw_no_tenure_uniques_only.csv', index=False)\n",
    "\n",
    "# Optionally, view counts\n",
    "print(df_dupes['211_City'].value_counts())"
   ]
  },
  {
   "cell_type": "markdown",
   "id": "ee4a06b5-5636-49df-a33f-138576b0caac",
   "metadata": {},
   "source": [
    "## Join manually retrieved tenure data"
   ]
  },
  {
   "cell_type": "markdown",
   "id": "3bfc9b91-7ed9-44ff-a703-6a9b5609d773",
   "metadata": {},
   "source": [
    "Merge in Toronto data"
   ]
  },
  {
   "cell_type": "code",
   "execution_count": 6,
   "id": "6f59427a-1203-4091-899f-da9afd970e94",
   "metadata": {},
   "outputs": [],
   "source": [
    "df_matches_all = pd.read_csv('../joined-data/simplified_matches_uw_tenure.csv')\n",
    "df_tenure_to = pd.read_csv('../tenure-data/Non-Profit UW Tenure Toronto - Sheet1.csv')"
   ]
  },
  {
   "cell_type": "code",
   "execution_count": 7,
   "id": "6535eabd-1808-422e-9e99-742fe7b342e6",
   "metadata": {},
   "outputs": [],
   "source": [
    "merge_cols = ['CRA_Organization_Name', '211_Organization_Name', '211_Location_Name', '211_Address', '211_Postal_Code', 'X_Coordinate', 'Y_Coordinate']\n",
    "\n",
    "# Merge tenure info from df_tenure_to into df_matches_all\n",
    "df_merged = pd.merge(\n",
    "    df_matches_all,\n",
    "    df_tenure_to[merge_cols + ['Tenure (Rent or Own or Unknown)']],\n",
    "    on=merge_cols,\n",
    "    how='left'\n",
    ")\n",
    "\n",
    "# Create new column 'Tenure_Public' initialized as empty string\n",
    "df_merged['Tenure_Public'] = ''\n",
    "\n",
    "# Function to update tenure values\n",
    "def update_tenure(row):\n",
    "    current_tenure = row['Tenure'] \n",
    "    new_tenure_info = row['Tenure (Rent or Own or Unknown)']\n",
    "    \n",
    "    # Only update if current tenure is 'Unknown' or 'Empty'\n",
    "    if current_tenure == 'Unknown' or pd.isna(current_tenure):\n",
    "        if pd.isna(new_tenure_info):\n",
    "            return row['Tenure'], ''\n",
    "        elif str(new_tenure_info).startswith('City of '):\n",
    "            return 'Rent', new_tenure_info\n",
    "        else:\n",
    "            return new_tenure_info, ''\n",
    "    else:\n",
    "        return row['Tenure'], ''\n",
    "\n",
    "# Apply function to update Tenure and Tenure_Public columns\n",
    "df_merged[['Tenure', 'Tenure_Public']] = df_merged.apply(update_tenure, axis=1, result_type='expand')\n",
    "\n",
    "# Drop helper column from df_tenure_to\n",
    "df_matches_all_2 = df_merged.drop(columns=['Tenure (Rent or Own or Unknown)'])"
   ]
  },
  {
   "cell_type": "markdown",
   "id": "e8c83dc8-20bb-425c-a915-4ab3c40ec8ad",
   "metadata": {},
   "source": [
    "Merge in non-Toronto GTA data"
   ]
  },
  {
   "cell_type": "code",
   "execution_count": 8,
   "id": "e4e93659-4b13-4a98-b27d-4fdf75672a4d",
   "metadata": {},
   "outputs": [],
   "source": [
    "df_tenure_gta = pd.read_csv('../tenure-data/2021_Joinedv2_short - Copy(CRE2021).csv')"
   ]
  },
  {
   "cell_type": "code",
   "execution_count": 9,
   "id": "015701fc-a339-47dd-98f7-afd4025b157a",
   "metadata": {},
   "outputs": [],
   "source": [
    "# Ensure the column is named 'Tenure_GTA' (skip renaming again if already done)\n",
    "# If it’s not renamed yet, you can uncomment the next line:\n",
    "df_tenure_gta = df_tenure_gta.rename(columns={'Tenure': 'Tenure_GTA'})\n",
    "\n",
    "# Clean up df_tenure_gta['Tenure_GTA']: replace non 'Rent', 'Own', 'Unknown' with 'Unknown'\n",
    "df_tenure_gta['Tenure_GTA'] = df_tenure_gta['Tenure_GTA'].str.strip()\n",
    "df_tenure_gta['Tenure_GTA'] = df_tenure_gta['Tenure_GTA'].where(df_tenure_gta['Tenure_GTA'].isin(['Rent', 'Own', 'Unknown']), 'Unknown')\n",
    "\n",
    "merge_cols = ['CRA_Organization_Name', '211_Organization_Name', '211_Location_Name', '211_Address', '211_Postal_Code', 'X_Coordinate', 'Y_Coordinate']\n",
    "\n",
    "# Group by merge columns and resolve conflicts\n",
    "def resolve_tenure(series):\n",
    "    unique_tenures = series.dropna().unique()\n",
    "    if len(unique_tenures) == 1:\n",
    "        return unique_tenures[0]\n",
    "    else:\n",
    "        return 'Unknown'\n",
    "\n",
    "df_tenure_gta_agg = df_tenure_gta.groupby(merge_cols)['Tenure_GTA'].apply(resolve_tenure).reset_index()\n",
    "\n",
    "# Merge the resolved GTA tenure info into df_matches_all_2\n",
    "df_merged_gta = pd.merge(\n",
    "    df_matches_all_2,\n",
    "    df_tenure_gta_agg,\n",
    "    on=merge_cols,\n",
    "    how='left'\n",
    ")\n",
    "\n",
    "# Update 'Tenure' where it is 'Unknown' or NaN, using 'Tenure_GTA' if available\n",
    "def update_tenure_gta(row):\n",
    "    current_tenure = str(row['Tenure']).strip().lower()\n",
    "    gta_tenure = row['Tenure_GTA']\n",
    "    \n",
    "    if current_tenure == 'unknown' or pd.isna(row['Tenure']):\n",
    "        if pd.notna(gta_tenure) and gta_tenure != 'Unknown':\n",
    "            return gta_tenure\n",
    "    return row['Tenure']\n",
    "\n",
    "df_merged_gta['Tenure'] = df_merged_gta.apply(update_tenure_gta, axis=1)\n",
    "\n",
    "# Drop helper column\n",
    "df_matches_all_3 = df_merged_gta.drop(columns=['Tenure_GTA'])"
   ]
  },
  {
   "cell_type": "markdown",
   "id": "1d097cc9-7131-4920-8f7f-1c87edba5706",
   "metadata": {},
   "source": [
    "Set single property values to 'Own' if we detect a property value"
   ]
  },
  {
   "cell_type": "code",
   "execution_count": 10,
   "id": "41bd2813-4e92-4b10-9322-5db60c734ccf",
   "metadata": {},
   "outputs": [
    {
     "data": {
      "text/plain": [
       "Index(['CRA_BN_ID', 'CRA_Organization_Name', 'CRA_Category', 'CRA_SubCategory',\n",
       "       '211_Organization_Name', '211_Location_Name', '211_Address', '211_City',\n",
       "       '211_Postal_Code', 'X_Coordinate', 'Y_Coordinate', 'Match_Method',\n",
       "       'Tenure', 'UW', 'Tenure_Public'],\n",
       "      dtype='object')"
      ]
     },
     "execution_count": 10,
     "metadata": {},
     "output_type": "execute_result"
    }
   ],
   "source": [
    "df_matches_all_3.columns"
   ]
  },
  {
   "cell_type": "code",
   "execution_count": 11,
   "id": "25cdf8c8-4177-4a96-bc4f-3d21ccb4f441",
   "metadata": {},
   "outputs": [
    {
     "data": {
      "text/plain": [
       "Index(['CRA_BN_ID', 'CRA_Organization_Name', '211_Organization_Name',\n",
       "       '211_Location_Name', '211_Address', '211_Postal_Code', 'X_Coordinate',\n",
       "       'Y_Coordinate', 'Match_Method', 'Tenure', 'UW',\n",
       "       'Land_or_Bldg_owned_4050', 'land_bldg_4155'],\n",
       "      dtype='object')"
      ]
     },
     "execution_count": 11,
     "metadata": {},
     "output_type": "execute_result"
    }
   ],
   "source": [
    "df_land_status = pd.read_csv('../tenure-data/2021_Joinedv2(CRE2021).csv', encoding='latin')\n",
    "df_land_status = df_land_status[[\n",
    "    'CRA_BN_ID', 'CRA_Organi', 'F211_Organ', 'F211_Locat', 'F211_Addre',\n",
    "    'F211_Posta', 'X_Coordina', 'Y_Coordina', 'Match_Meth', 'Tenure', 'UW', \n",
    "    'Land_or_Bldg_owned_4050', 'land_bldg_4155',\n",
    "]].rename(columns={\n",
    "    'CRA_Organi': 'CRA_Organization_Name',\n",
    "    'F211_Organ': '211_Organization_Name',\n",
    "    'F211_Locat': '211_Location_Name', \n",
    "    'F211_Addre': '211_Address',\n",
    "    'F211_Posta': '211_Postal_Code',\n",
    "    'X_Coordina': 'X_Coordinate',\n",
    "    'Y_Coordina': 'Y_Coordinate',\n",
    "    'Match_Meth': 'Match_Method',\n",
    "})\n",
    "df_land_status.columns"
   ]
  },
  {
   "cell_type": "code",
   "execution_count": 12,
   "id": "80aad78d-80d8-452c-adb0-ae38cfacf4f0",
   "metadata": {},
   "outputs": [],
   "source": [
    "# Step 1: Clean up whitespace in relevant columns\n",
    "df_land_status['Land_or_Bldg_owned_4050'] = df_land_status['Land_or_Bldg_owned_4050'].str.strip()\n",
    "df_land_status['land_bldg_4155'] = df_land_status['land_bldg_4155'].str.strip()\n",
    "\n",
    "# Step 2: Convert 'land_bldg_4155' to integer (handle NaNs or empty strings)\n",
    "df_land_status['land_bldg_4155'] = pd.to_numeric(df_land_status['land_bldg_4155'], errors='coerce').fillna(0).astype(int)\n",
    "\n",
    "# Step 3: Keep only rows where '211_Organization_Name' is unique\n",
    "unique_orgs = df_land_status['211_Organization_Name'].value_counts()\n",
    "unique_org_names = unique_orgs[unique_orgs == 1].index\n",
    "df_land_status_unique = df_land_status[df_land_status['211_Organization_Name'].isin(unique_org_names)].copy()\n",
    "\n",
    "# Step 4: Update 'Tenure' based on 'Land_or_Bldg_owned_4050' and 'land_bldg_4155'\n",
    "def infer_tenure(row):\n",
    "    current_tenure = row['Tenure']\n",
    "    owned_status = row['Land_or_Bldg_owned_4050']\n",
    "    building_value = row['land_bldg_4155']\n",
    "    \n",
    "    if current_tenure in ['Rent', 'Own']:\n",
    "        return current_tenure  # Leave as is\n",
    "    if pd.notna(owned_status) and owned_status != 'N' and building_value > 0:\n",
    "        return 'Own'\n",
    "    else:\n",
    "        return 'Rent'\n",
    "\n",
    "df_land_status_unique['Tenure_LandStatus'] = df_land_status_unique.apply(infer_tenure, axis=1)\n",
    "\n",
    "# Step 5: Prepare for merge by keeping necessary columns\n",
    "merge_cols = ['CRA_Organization_Name', '211_Organization_Name', '211_Location_Name', '211_Address', '211_Postal_Code', 'X_Coordinate', 'Y_Coordinate']\n",
    "df_land_status_merge = df_land_status_unique[merge_cols + ['Tenure_LandStatus']]\n",
    "\n",
    "# Step 6: Merge into df_matches_all_3\n",
    "df_merged_land = pd.merge(\n",
    "    df_matches_all_3,\n",
    "    df_land_status_merge,\n",
    "    on=merge_cols,\n",
    "    how='left'\n",
    ")\n",
    "\n",
    "# Step 7: Update 'Tenure' where it's 'Unknown' or NaN, using 'Tenure_LandStatus'\n",
    "def update_tenure_land(row):\n",
    "    current_tenure = str(row['Tenure']).strip().lower()\n",
    "    land_tenure = row['Tenure_LandStatus']\n",
    "    \n",
    "    if current_tenure == 'unknown' or pd.isna(row['Tenure']):\n",
    "        if pd.notna(land_tenure):\n",
    "            return land_tenure\n",
    "    return row['Tenure']\n",
    "\n",
    "df_merged_land['Tenure'] = df_merged_land.apply(update_tenure_land, axis=1)\n",
    "\n",
    "# Step 8: Drop helper column\n",
    "df_matches_all_4 = df_merged_land.drop(columns=['Tenure_LandStatus'])"
   ]
  },
  {
   "cell_type": "code",
   "execution_count": 13,
   "id": "8e4f63b0-3459-4f30-948a-d4a82175ac22",
   "metadata": {},
   "outputs": [
    {
     "data": {
      "text/plain": [
       "Tenure\n",
       "Rent       1317\n",
       "Own         543\n",
       "Unknown     173\n",
       "Name: count, dtype: int64"
      ]
     },
     "execution_count": 13,
     "metadata": {},
     "output_type": "execute_result"
    }
   ],
   "source": [
    "df_matches_all_4['Tenure'].value_counts()"
   ]
  },
  {
   "cell_type": "markdown",
   "id": "c06b08d9-2780-4d49-8677-839c3e43e444",
   "metadata": {},
   "source": [
    "Join Sarah's manual listing of tenure"
   ]
  },
  {
   "cell_type": "code",
   "execution_count": 14,
   "id": "50057213-c156-489d-8cf5-58348b3ac242",
   "metadata": {},
   "outputs": [],
   "source": [
    "df_sarah = pd.read_csv('../tenure-data/simplified_matches_uw_tenure_SCupdate(in).csv')"
   ]
  },
  {
   "cell_type": "code",
   "execution_count": 15,
   "id": "76a710b2-dca2-4af2-9a5c-d27c97ad7506",
   "metadata": {},
   "outputs": [],
   "source": [
    "# Step 1: Define merge columns\n",
    "merge_cols = [\n",
    "    'CRA_Organization_Name', '211_Organization_Name', '211_Location_Name',\n",
    "    '211_Address', '211_Postal_Code', 'X_Coordinate', 'Y_Coordinate'\n",
    "]\n",
    "\n",
    "# Step 2: Prepare df_sarah for merge (keep only necessary columns)\n",
    "df_sarah_merge = df_sarah[merge_cols + ['Tenure']].rename(columns={'Tenure': 'Tenure_Sarah'})\n",
    "\n",
    "# Step 3: Merge with df_matches_all_4\n",
    "df_merged_sarah = pd.merge(\n",
    "    df_matches_all_4,\n",
    "    df_sarah_merge,\n",
    "    on=merge_cols,\n",
    "    how='left'\n",
    ")\n",
    "\n",
    "# Step 4: Update Tenure only if current is not 'Rent' or 'Own'\n",
    "def update_tenure_sarah(row):\n",
    "    current_tenure = str(row['Tenure']).strip().lower()\n",
    "    sarah_tenure = row['Tenure_Sarah']\n",
    "    \n",
    "    if current_tenure not in ['rent', 'own'] and pd.notna(sarah_tenure):\n",
    "        return sarah_tenure\n",
    "    return row['Tenure']\n",
    "\n",
    "df_merged_sarah['Tenure'] = df_merged_sarah.apply(update_tenure_sarah, axis=1)\n",
    "\n",
    "# Step 5: Drop helper column\n",
    "df_matches_all_5 = df_merged_sarah.drop(columns=['Tenure_Sarah'])"
   ]
  },
  {
   "cell_type": "code",
   "execution_count": 16,
   "id": "e7c5d6ad-8ad0-40c2-b774-a8627f727431",
   "metadata": {},
   "outputs": [
    {
     "data": {
      "text/plain": [
       "Tenure\n",
       "Rent       1468\n",
       "Own         560\n",
       "Unknown     221\n",
       "Name: count, dtype: int64"
      ]
     },
     "execution_count": 16,
     "metadata": {},
     "output_type": "execute_result"
    }
   ],
   "source": [
    "df_matches_all_5['Tenure'] = df_matches_all_5['Tenure'].fillna('Unknown')\n",
    "df_matches_all_5['Tenure'].value_counts()"
   ]
  },
  {
   "cell_type": "markdown",
   "id": "000d813a-6391-497d-9d33-65f14a677297",
   "metadata": {},
   "source": [
    "Concatenate the extra entries manually defined by Sarah"
   ]
  },
  {
   "cell_type": "code",
   "execution_count": 19,
   "id": "9ca5a401-2adb-4e2d-b956-b7f4aa5edb42",
   "metadata": {},
   "outputs": [],
   "source": [
    "df_extra_sarah = pd.read_csv('../uw-data/uw_additional_entries_sc.csv')"
   ]
  },
  {
   "cell_type": "code",
   "execution_count": 25,
   "id": "ec2faf97-59cc-4197-9f60-1da213620969",
   "metadata": {},
   "outputs": [
    {
     "data": {
      "text/plain": [
       "Tenure\n",
       "Rent       1470\n",
       "Own         564\n",
       "Unknown     221\n",
       "Name: count, dtype: int64"
      ]
     },
     "execution_count": 25,
     "metadata": {},
     "output_type": "execute_result"
    }
   ],
   "source": [
    "df_matches_all_6 = pd.concat([df_matches_all_5, df_extra_sarah])\n",
    "df_matches_all_6 = df_matches_all_6.sort_values(by='CRA_Organization_Name')\n",
    "df_matches_all_6['Tenure'].value_counts()"
   ]
  },
  {
   "cell_type": "code",
   "execution_count": 26,
   "id": "805c6335-c141-4f59-a4e2-00b3c19a298a",
   "metadata": {},
   "outputs": [],
   "source": [
    "df_matches_all_6.to_csv('../joined-data/simplified_matches_uw_tenure_full.csv', index=False)"
   ]
  }
 ],
 "metadata": {
  "kernelspec": {
   "display_name": "Python 3 (ipykernel)",
   "language": "python",
   "name": "python3"
  },
  "language_info": {
   "codemirror_mode": {
    "name": "ipython",
    "version": 3
   },
   "file_extension": ".py",
   "mimetype": "text/x-python",
   "name": "python",
   "nbconvert_exporter": "python",
   "pygments_lexer": "ipython3",
   "version": "3.12.5"
  }
 },
 "nbformat": 4,
 "nbformat_minor": 5
}
