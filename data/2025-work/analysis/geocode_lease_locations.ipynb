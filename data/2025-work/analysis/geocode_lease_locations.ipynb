{
 "cells": [
  {
   "cell_type": "code",
   "execution_count": 1,
   "metadata": {},
   "outputs": [],
   "source": [
    "import numpy as np\n",
    "import pandas as pd\n",
    "import geopandas as gpd\n",
    "from tqdm import tqdm\n",
    "\n",
    "from shapely.geometry import Point"
   ]
  },
  {
   "cell_type": "code",
   "execution_count": 29,
   "metadata": {},
   "outputs": [],
   "source": [
    "df_lease = pd.read_excel('../lease-data/List of CRE leased to regional and municipal.xlsx', sheet_name='All - Across GTA')\n",
    "# df_lease = df_lease.drop(columns=['No', 'NOTE', 'Level', 'Name', 'Rented To'])\n",
    "df_lease['Province'] = 'Ontario'\n",
    "df_lease['Country'] = 'Canada'\n",
    "df_lease = df_lease.replace('\\n','', regex=True)\n",
    "df_lease.to_csv('../lease-data/leased_addresses.csv', index=False)"
   ]
  },
  {
   "cell_type": "code",
   "execution_count": 38,
   "metadata": {},
   "outputs": [],
   "source": [
    "df_lease = pd.read_csv('../lease-data/leased_addresses_geocodio.csv')\n",
    "df_lease = df_lease[[\n",
    "    'No', 'Rented To', 'Level', 'Name', 'Location', 'Postcode', 'City/Region', \n",
    "    'Geocodio Latitude', 'Geocodio Longitude',\n",
    "]]\n",
    "df_lease = df_lease.rename(columns={'Geocodio Latitude': 'Latitude', 'Geocodio Longitude': 'Longitude'})"
   ]
  },
  {
   "cell_type": "code",
   "execution_count": 39,
   "metadata": {},
   "outputs": [],
   "source": [
    "gdf_lease = gpd.GeoDataFrame(df_lease, geometry=gpd.points_from_xy(df_lease['Longitude'], df_lease['Latitude']), crs='EPSG:4326')\n",
    "gdf_lease.to_file('../lease-data/leased_addresses.geojson', driver='GeoJSON')\n",
    "gdf_lease['geometry'].to_file('../lease-data/leased_points.geojson', driver='GeoJSON')"
   ]
  }
 ],
 "metadata": {
  "kernelspec": {
   "display_name": "py312",
   "language": "python",
   "name": "python3"
  },
  "language_info": {
   "codemirror_mode": {
    "name": "ipython",
    "version": 3
   },
   "file_extension": ".py",
   "mimetype": "text/x-python",
   "name": "python",
   "nbconvert_exporter": "python",
   "pygments_lexer": "ipython3",
   "version": "3.12.5"
  }
 },
 "nbformat": 4,
 "nbformat_minor": 2
}
