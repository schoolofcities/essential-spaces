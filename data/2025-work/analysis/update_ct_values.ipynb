{
 "cells": [
  {
   "cell_type": "code",
   "execution_count": 2,
   "id": "d6749dc7-f022-403f-877d-3843d7de32f4",
   "metadata": {},
   "outputs": [],
   "source": [
    "import numpy as np\n",
    "import pandas as pd\n",
    "import geopandas as gpd"
   ]
  },
  {
   "cell_type": "markdown",
   "id": "2616546c-f575-4b70-8569-62b5944607fd",
   "metadata": {},
   "source": [
    "Update the equity index values from 2024 to 2025"
   ]
  },
  {
   "cell_type": "code",
   "execution_count": 3,
   "id": "62bf7e71-0815-4c10-b320-94097cf7f291",
   "metadata": {},
   "outputs": [],
   "source": [
    "df_equity_2025 = pd.read_csv('../ct-data/equity-2025.csv', encoding='latin')\n",
    "gdf_equity_map_2024 = gpd.read_file('../ct-data/equity-2024-layer.geo.json')"
   ]
  },
  {
   "cell_type": "code",
   "execution_count": 4,
   "id": "3ff4a9c1-8488-4a2a-b41c-356544ecdda2",
   "metadata": {},
   "outputs": [],
   "source": [
    "# Force both keys to the same string format with 2 decimal places\n",
    "df_equity_2025[\"Census tract\"] = df_equity_2025[\"Census tract\"].astype(float).map(\"{:.2f}\".format)\n",
    "gdf_equity_map_2024[\"ctuid\"] = gdf_equity_map_2024[\"ctuid\"].astype(float).map(\"{:.2f}\".format)\n",
    "\n",
    "# Create mapping\n",
    "score_map = df_equity_2025.set_index(\"Census tract\")[\"Updated Equity Score\"]\n",
    "\n",
    "# Replace values\n",
    "gdf_equity_map_2024[\"Equity Index\"] = gdf_equity_map_2024[\"ctuid\"].map(score_map).fillna(\n",
    "    gdf_equity_map_2024[\"Equity Index\"]\n",
    ")\n",
    "\n",
    "gdf_equity_map_2024.to_file(\"../ct-data/ct-data-all.geo.json\", driver=\"GeoJSON\")"
   ]
  },
  {
   "cell_type": "markdown",
   "id": "3c35409a",
   "metadata": {},
   "source": [
    "Identify the breakpoints for quintiles"
   ]
  },
  {
   "cell_type": "code",
   "execution_count": 5,
   "id": "d4fb5e14",
   "metadata": {},
   "outputs": [
    {
     "name": "stdout",
     "output_type": "stream",
     "text": [
      "Quintile breakpoints: [0.   0.3  0.37 0.44 0.53 1.  ]\n"
     ]
    }
   ],
   "source": [
    "gdf_ct = gpd.read_file('../ct-data/ct-data-all.geo.json')\n",
    "\n",
    "# Calculate quintile breakpoints\n",
    "quintiles = np.quantile(gdf_ct['Equity Index'].dropna(), [0, 0.2, 0.4, 0.6, 0.8, 1])\n",
    "print(\"Quintile breakpoints:\", quintiles)"
   ]
  }
 ],
 "metadata": {
  "kernelspec": {
   "display_name": "py312",
   "language": "python",
   "name": "python3"
  },
  "language_info": {
   "codemirror_mode": {
    "name": "ipython",
    "version": 3
   },
   "file_extension": ".py",
   "mimetype": "text/x-python",
   "name": "python",
   "nbconvert_exporter": "python",
   "pygments_lexer": "ipython3",
   "version": "3.12.5"
  }
 },
 "nbformat": 4,
 "nbformat_minor": 5
}
